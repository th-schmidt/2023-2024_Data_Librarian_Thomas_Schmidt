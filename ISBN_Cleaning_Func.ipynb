{
 "cells": [
  {
   "cell_type": "code",
   "execution_count": 3,
   "id": "cdd23388",
   "metadata": {},
   "outputs": [],
   "source": [
    "import re"
   ]
  },
  {
   "cell_type": "code",
   "execution_count": 2,
   "id": "ed54c309",
   "metadata": {},
   "outputs": [],
   "source": [
    "# unbereinigte ISBNs\n",
    "\n",
    "dirty_isbns = [\n",
    "    \" ISBN 978-3-518-58773-7 \", \n",
    "    \"ISBN___978-1491946008 \",\n",
    "    \"ISBN 978-1593276034\"]"
   ]
  },
  {
   "cell_type": "code",
   "execution_count": 15,
   "id": "d6ed6721",
   "metadata": {},
   "outputs": [],
   "source": [
    "def clean_isbn(isbn):\n",
    "    clean_isbn = re.sub(r'-*|_*|ISBN|\\s*', '', isbn).strip()\n",
    "    return clean_isbn"
   ]
  },
  {
   "cell_type": "code",
   "execution_count": 16,
   "id": "309a770c",
   "metadata": {},
   "outputs": [
    {
     "name": "stdout",
     "output_type": "stream",
     "text": [
      "9783518587737\n",
      "9781491946008\n",
      "9781593276034\n"
     ]
    }
   ],
   "source": [
    "cleaned_isbns = []\n",
    "\n",
    "for dirty_isbn in dirty_isbns:\n",
    "    isbn = clean_isbn(dirty_isbn)\n",
    "    cleaned_isbns.append(isbn)\n",
    "    print(isbn)"
   ]
  },
  {
   "cell_type": "code",
   "execution_count": 17,
   "id": "65ba95f2",
   "metadata": {},
   "outputs": [
    {
     "data": {
      "text/plain": [
       "['9783518587737', '9781491946008', '9781593276034']"
      ]
     },
     "execution_count": 17,
     "metadata": {},
     "output_type": "execute_result"
    }
   ],
   "source": [
    "cleaned_isbns"
   ]
  },
  {
   "cell_type": "code",
   "execution_count": 18,
   "id": "eb31c81e",
   "metadata": {},
   "outputs": [
    {
     "name": "stdout",
     "output_type": "stream",
     "text": [
      "clean_isbn\t cleaned_isbns\t d\t dirty\t dirty_isbn\t dirty_isbns\t isbn\t new_isbn\t re\t \n",
      "\n"
     ]
    }
   ],
   "source": [
    "%who"
   ]
  },
  {
   "cell_type": "code",
   "execution_count": 19,
   "id": "fb6cb3a3",
   "metadata": {},
   "outputs": [
    {
     "name": "stdout",
     "output_type": "stream",
     "text": [
      "Variable        Type        Data/Info\n",
      "-------------------------------------\n",
      "clean_isbn      function    <function clean_isbn at 0xffff889da840>\n",
      "cleaned_isbns   list        n=3\n",
      "d               str         ISBN 978-1593276034\n",
      "dirty           str         ISBN 978-1593276034\n",
      "dirty_isbn      str         ISBN 978-1593276034\n",
      "dirty_isbns     list        n=3\n",
      "isbn            str         9781593276034\n",
      "new_isbn        str         9781593276034\n",
      "re              module      <module 're' from '/home/<...>thon3.11/re/__init__.py'>\n"
     ]
    }
   ],
   "source": [
    "%whos"
   ]
  },
  {
   "cell_type": "code",
   "execution_count": null,
   "id": "fd7da66b",
   "metadata": {},
   "outputs": [],
   "source": []
  }
 ],
 "metadata": {
  "kernelspec": {
   "display_name": "Python 3 (ipykernel)",
   "language": "python",
   "name": "python3"
  },
  "language_info": {
   "codemirror_mode": {
    "name": "ipython",
    "version": 3
   },
   "file_extension": ".py",
   "mimetype": "text/x-python",
   "name": "python",
   "nbconvert_exporter": "python",
   "pygments_lexer": "ipython3",
   "version": "3.11.5"
  }
 },
 "nbformat": 4,
 "nbformat_minor": 5
}
