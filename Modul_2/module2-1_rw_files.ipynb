{
 "cells": [
  {
   "cell_type": "code",
   "execution_count": 130,
   "metadata": {},
   "outputs": [],
   "source": [
    "import os\n",
    "\n",
    "from pprint import pprint\n",
    "from pathlib import Path"
   ]
  },
  {
   "cell_type": "markdown",
   "metadata": {},
   "source": [
    "## `joinpath`"
   ]
  },
  {
   "cell_type": "code",
   "execution_count": 17,
   "metadata": {},
   "outputs": [
    {
     "name": "stdout",
     "output_type": "stream",
     "text": [
      "data/test/accounts.txt\n",
      "data/test/test.csv\n",
      "data/test/bignumbers.csv\n"
     ]
    }
   ],
   "source": [
    "my_files = ['accounts.txt', 'test.csv', 'bignumbers.csv']\n",
    "\n",
    "for file in my_files:\n",
    "    print(Path.joinpath(Path('data/test'), file))"
   ]
  },
  {
   "cell_type": "code",
   "execution_count": 20,
   "metadata": {},
   "outputs": [
    {
     "name": "stdout",
     "output_type": "stream",
     "text": [
      "home/thomas/Documents/test.txt\n"
     ]
    }
   ],
   "source": [
    "dirs = ['home', 'thomas', 'Documents']\n",
    "\n",
    "print(os.path.join('home', 'thomas', 'Documents', 'test.txt'))"
   ]
  },
  {
   "cell_type": "code",
   "execution_count": 23,
   "metadata": {},
   "outputs": [
    {
     "name": "stdout",
     "output_type": "stream",
     "text": [
      "Documents/accounts.txt\n",
      "Documents/test.csv\n",
      "Documents/bignumbers.csv\n"
     ]
    }
   ],
   "source": [
    "for file in my_files:\n",
    "    print(os.path.join('Documents', file))"
   ]
  },
  {
   "cell_type": "markdown",
   "metadata": {},
   "source": [
    "## `cwd`"
   ]
  },
  {
   "cell_type": "code",
   "execution_count": 36,
   "metadata": {},
   "outputs": [
    {
     "data": {
      "text/plain": [
       "'/Users/thomas/Coding/data-librarian/2023-2024_Data_Librarian_Thomas_Schmidt/Modul_2'"
      ]
     },
     "execution_count": 36,
     "metadata": {},
     "output_type": "execute_result"
    }
   ],
   "source": [
    "str(Path.cwd())"
   ]
  },
  {
   "cell_type": "code",
   "execution_count": 35,
   "metadata": {},
   "outputs": [
    {
     "data": {
      "text/plain": [
       "PosixPath('/Users/thomas/Coding/data-librarian/2023-2024_Data_Librarian_Thomas_Schmidt/Modul_2/test.txt')"
      ]
     },
     "execution_count": 35,
     "metadata": {},
     "output_type": "execute_result"
    }
   ],
   "source": [
    "Path.joinpath(Path.cwd(), 'test.txt')"
   ]
  },
  {
   "cell_type": "markdown",
   "metadata": {},
   "source": [
    "## `mkdir`"
   ]
  },
  {
   "cell_type": "code",
   "execution_count": 40,
   "metadata": {},
   "outputs": [],
   "source": [
    "Path('./docs/test/new_dir').mkdir(parents=True, exist_ok=True)"
   ]
  },
  {
   "cell_type": "markdown",
   "metadata": {},
   "source": [
    "## Paths: `absolute` and `relative`"
   ]
  },
  {
   "cell_type": "code",
   "execution_count": 64,
   "metadata": {},
   "outputs": [],
   "source": [
    "dir1 = Path.cwd()\n",
    "dir2 = Path('docs')"
   ]
  },
  {
   "cell_type": "code",
   "execution_count": 65,
   "metadata": {},
   "outputs": [
    {
     "data": {
      "text/plain": [
       "True"
      ]
     },
     "execution_count": 65,
     "metadata": {},
     "output_type": "execute_result"
    }
   ],
   "source": [
    "Path.is_absolute(dir1)"
   ]
  },
  {
   "cell_type": "code",
   "execution_count": 66,
   "metadata": {},
   "outputs": [
    {
     "data": {
      "text/plain": [
       "False"
      ]
     },
     "execution_count": 66,
     "metadata": {},
     "output_type": "execute_result"
    }
   ],
   "source": [
    "Path.is_absolute(dir2)"
   ]
  },
  {
   "cell_type": "code",
   "execution_count": 67,
   "metadata": {},
   "outputs": [
    {
     "data": {
      "text/plain": [
       "PosixPath('docs')"
      ]
     },
     "execution_count": 67,
     "metadata": {},
     "output_type": "execute_result"
    }
   ],
   "source": [
    "dir2"
   ]
  },
  {
   "cell_type": "code",
   "execution_count": 68,
   "metadata": {},
   "outputs": [
    {
     "data": {
      "text/plain": [
       "PosixPath('/Users/thomas/Coding/data-librarian/2023-2024_Data_Librarian_Thomas_Schmidt/Modul_2/docs')"
      ]
     },
     "execution_count": 68,
     "metadata": {},
     "output_type": "execute_result"
    }
   ],
   "source": [
    "dir2.absolute()"
   ]
  },
  {
   "cell_type": "code",
   "execution_count": 69,
   "metadata": {},
   "outputs": [
    {
     "data": {
      "text/plain": [
       "PosixPath('/Users/thomas/Coding/data-librarian/2023-2024_Data_Librarian_Thomas_Schmidt/Modul_2/docs')"
      ]
     },
     "execution_count": 69,
     "metadata": {},
     "output_type": "execute_result"
    }
   ],
   "source": [
    "dir2.resolve()"
   ]
  },
  {
   "cell_type": "markdown",
   "metadata": {},
   "source": [
    "## Get `filenames` and `dirs`"
   ]
  },
  {
   "cell_type": "code",
   "execution_count": 82,
   "metadata": {},
   "outputs": [
    {
     "data": {
      "text/plain": [
       "PosixPath('/Users/thomas/Coding/data-librarian/2023-2024_Data_Librarian_Thomas_Schmidt/Modul_2/test.txt')"
      ]
     },
     "execution_count": 82,
     "metadata": {},
     "output_type": "execute_result"
    }
   ],
   "source": [
    "filename = Path.joinpath(dir1, 'test.txt')\n",
    "filename"
   ]
  },
  {
   "cell_type": "code",
   "execution_count": 85,
   "metadata": {},
   "outputs": [
    {
     "data": {
      "text/plain": [
       "'test.txt'"
      ]
     },
     "execution_count": 85,
     "metadata": {},
     "output_type": "execute_result"
    }
   ],
   "source": [
    "# filename\n",
    "filename.name"
   ]
  },
  {
   "cell_type": "code",
   "execution_count": 86,
   "metadata": {},
   "outputs": [
    {
     "data": {
      "text/plain": [
       "PosixPath('/Users/thomas/Coding/data-librarian/2023-2024_Data_Librarian_Thomas_Schmidt/Modul_2')"
      ]
     },
     "execution_count": 86,
     "metadata": {},
     "output_type": "execute_result"
    }
   ],
   "source": [
    "# parent dirs\n",
    "filename.parent"
   ]
  },
  {
   "cell_type": "markdown",
   "metadata": {},
   "source": [
    "## Dateigröße und Ordnerinhalte"
   ]
  },
  {
   "cell_type": "code",
   "execution_count": 87,
   "metadata": {},
   "outputs": [],
   "source": [
    "filepath = Path('./data/lorem_ipsum.txt')"
   ]
  },
  {
   "cell_type": "code",
   "execution_count": 88,
   "metadata": {},
   "outputs": [
    {
     "data": {
      "text/plain": [
       "True"
      ]
     },
     "execution_count": 88,
     "metadata": {},
     "output_type": "execute_result"
    }
   ],
   "source": [
    "filepath.exists()"
   ]
  },
  {
   "cell_type": "code",
   "execution_count": 91,
   "metadata": {},
   "outputs": [
    {
     "data": {
      "text/plain": [
       "861"
      ]
     },
     "execution_count": 91,
     "metadata": {},
     "output_type": "execute_result"
    }
   ],
   "source": [
    "# Größe in Bytes\n",
    "filepath.stat().st_size"
   ]
  },
  {
   "cell_type": "code",
   "execution_count": 97,
   "metadata": {},
   "outputs": [
    {
     "data": {
      "text/plain": [
       "[PosixPath('/Users/thomas/Coding/data-librarian/2023-2024_Data_Librarian_Thomas_Schmidt/Modul_2/german_publications.json'),\n",
       " PosixPath('/Users/thomas/Coding/data-librarian/2023-2024_Data_Librarian_Thomas_Schmidt/Modul_2/.DS_Store'),\n",
       " PosixPath('/Users/thomas/Coding/data-librarian/2023-2024_Data_Librarian_Thomas_Schmidt/Modul_2/ZKDL2324_Modul2'),\n",
       " PosixPath('/Users/thomas/Coding/data-librarian/2023-2024_Data_Librarian_Thomas_Schmidt/Modul_2/.gitkeep'),\n",
       " PosixPath('/Users/thomas/Coding/data-librarian/2023-2024_Data_Librarian_Thomas_Schmidt/Modul_2/zbiw-data-librarian-module2-1_edits.ipynb'),\n",
       " PosixPath('/Users/thomas/Coding/data-librarian/2023-2024_Data_Librarian_Thomas_Schmidt/Modul_2/docs'),\n",
       " PosixPath('/Users/thomas/Coding/data-librarian/2023-2024_Data_Librarian_Thomas_Schmidt/Modul_2/Data Librarian Modul 2 Kennenlerntag.pdf'),\n",
       " PosixPath('/Users/thomas/Coding/data-librarian/2023-2024_Data_Librarian_Thomas_Schmidt/Modul_2/readme.md'),\n",
       " PosixPath('/Users/thomas/Coding/data-librarian/2023-2024_Data_Librarian_Thomas_Schmidt/Modul_2/writing_file.txt'),\n",
       " PosixPath('/Users/thomas/Coding/data-librarian/2023-2024_Data_Librarian_Thomas_Schmidt/Modul_2/pyterrier_intro.ipynb'),\n",
       " PosixPath('/Users/thomas/Coding/data-librarian/2023-2024_Data_Librarian_Thomas_Schmidt/Modul_2/web_interface.py'),\n",
       " PosixPath('/Users/thomas/Coding/data-librarian/2023-2024_Data_Librarian_Thomas_Schmidt/Modul_2/zbiw-data-librarian-module2-1_aufgabenstellung.ipynb'),\n",
       " PosixPath('/Users/thomas/Coding/data-librarian/2023-2024_Data_Librarian_Thomas_Schmidt/Modul_2/zbiw-data-librarian-module2-1_pandas.ipynb'),\n",
       " PosixPath('/Users/thomas/Coding/data-librarian/2023-2024_Data_Librarian_Thomas_Schmidt/Modul_2/tut-write-read-files.ipynb'),\n",
       " PosixPath('/Users/thomas/Coding/data-librarian/2023-2024_Data_Librarian_Thomas_Schmidt/Modul_2/venv'),\n",
       " PosixPath('/Users/thomas/Coding/data-librarian/2023-2024_Data_Librarian_Thomas_Schmidt/Modul_2/data')]"
      ]
     },
     "execution_count": 97,
     "metadata": {},
     "output_type": "execute_result"
    }
   ],
   "source": [
    "# Get all files and dirs\n",
    "list(dir1.glob('*'))"
   ]
  },
  {
   "cell_type": "code",
   "execution_count": 99,
   "metadata": {},
   "outputs": [
    {
     "data": {
      "text/plain": [
       "[PosixPath('/Users/thomas/Coding/data-librarian/2023-2024_Data_Librarian_Thomas_Schmidt/Modul_2/zbiw-data-librarian-module2-1_edits.ipynb'),\n",
       " PosixPath('/Users/thomas/Coding/data-librarian/2023-2024_Data_Librarian_Thomas_Schmidt/Modul_2/pyterrier_intro.ipynb'),\n",
       " PosixPath('/Users/thomas/Coding/data-librarian/2023-2024_Data_Librarian_Thomas_Schmidt/Modul_2/zbiw-data-librarian-module2-1_aufgabenstellung.ipynb'),\n",
       " PosixPath('/Users/thomas/Coding/data-librarian/2023-2024_Data_Librarian_Thomas_Schmidt/Modul_2/zbiw-data-librarian-module2-1_pandas.ipynb'),\n",
       " PosixPath('/Users/thomas/Coding/data-librarian/2023-2024_Data_Librarian_Thomas_Schmidt/Modul_2/tut-write-read-files.ipynb')]"
      ]
     },
     "execution_count": 99,
     "metadata": {},
     "output_type": "execute_result"
    }
   ],
   "source": [
    "# Get all jupyter notebooks\n",
    "notebooks = list(dir1.glob('*.ipynb'))\n",
    "notebooks"
   ]
  },
  {
   "cell_type": "code",
   "execution_count": 112,
   "metadata": {},
   "outputs": [
    {
     "name": "stdout",
     "output_type": "stream",
     "text": [
      "Size of all notebooks: 9.56 MB\n"
     ]
    }
   ],
   "source": [
    "# Calculate size of all notebooks\n",
    "size_total = 0\n",
    "\n",
    "for n in notebooks:\n",
    "    size_total += n.stat().st_size\n",
    "    \n",
    "print(f'Size of all notebooks: {size_total / 1000000:.2f} MB')"
   ]
  },
  {
   "cell_type": "code",
   "execution_count": 114,
   "metadata": {},
   "outputs": [
    {
     "name": "stdout",
     "output_type": "stream",
     "text": [
      "Size of all files: 12.53 MB\n",
      "File count: 12\n"
     ]
    }
   ],
   "source": [
    "# Calculate size of all files\n",
    "size_total = 0\n",
    "\n",
    "for file in Path('.').glob('*.*'):\n",
    "    size_total += file.stat().st_size\n",
    "    \n",
    "print(f'Size of all files: {size_total / 1000000:.2f} MB')\n",
    "print(f\"File count: {len(list(Path('.').glob('*.*')))}\")"
   ]
  },
  {
   "cell_type": "markdown",
   "metadata": {},
   "source": [
    "## Gültigkeit von Pfaden"
   ]
  },
  {
   "cell_type": "code",
   "execution_count": 116,
   "metadata": {},
   "outputs": [
    {
     "data": {
      "text/plain": [
       "True"
      ]
     },
     "execution_count": 116,
     "metadata": {},
     "output_type": "execute_result"
    }
   ],
   "source": [
    "Path('data/description.md').exists()"
   ]
  },
  {
   "cell_type": "code",
   "execution_count": 117,
   "metadata": {},
   "outputs": [
    {
     "data": {
      "text/plain": [
       "False"
      ]
     },
     "execution_count": 117,
     "metadata": {},
     "output_type": "execute_result"
    }
   ],
   "source": [
    "Path('data/error.md').exists()"
   ]
  },
  {
   "cell_type": "code",
   "execution_count": 119,
   "metadata": {},
   "outputs": [
    {
     "data": {
      "text/plain": [
       "True"
      ]
     },
     "execution_count": 119,
     "metadata": {},
     "output_type": "execute_result"
    }
   ],
   "source": [
    "Path('data/description.md').is_file()"
   ]
  },
  {
   "cell_type": "code",
   "execution_count": 120,
   "metadata": {},
   "outputs": [
    {
     "data": {
      "text/plain": [
       "True"
      ]
     },
     "execution_count": 120,
     "metadata": {},
     "output_type": "execute_result"
    }
   ],
   "source": [
    "Path('./data/').is_dir()"
   ]
  },
  {
   "cell_type": "code",
   "execution_count": 121,
   "metadata": {},
   "outputs": [
    {
     "data": {
      "text/plain": [
       "False"
      ]
     },
     "execution_count": 121,
     "metadata": {},
     "output_type": "execute_result"
    }
   ],
   "source": [
    "Path('./fictional_dir/').is_dir()"
   ]
  },
  {
   "cell_type": "markdown",
   "metadata": {},
   "source": [
    "## `open()`, `read()` and `write()`"
   ]
  },
  {
   "cell_type": "markdown",
   "metadata": {},
   "source": [
    "### Dateien lesen"
   ]
  },
  {
   "cell_type": "code",
   "execution_count": 132,
   "metadata": {},
   "outputs": [
    {
     "name": "stdout",
     "output_type": "stream",
     "text": [
      "Distinctio soluta deleniti quidem maiores et sed voluptas. Qui est quis libero dolor. Illo omnis quibusdam molestias et quis nam repudiandae sint.\n",
      "\n",
      "Impedit quod repellendus dolor. Earum est dolorem non voluptas aut. Cum corporis aut aspernatur consequatur vel aut sit qui. Veniam sit dolorem omnis amet facilis nobis dolor. Eum magni sunt quia libero. Fuga voluptatem et voluptatem aut veritatis possimus.\n",
      "\n",
      "Illum et deleniti nisi ex autem eum. Eveniet cum porro enim vitae sint consectetur. Fugit aut fugit inventore omnis. Quidem sint quia reprehenderit quae molestiae quia. Id facere similique et.\n",
      "\n",
      "Vero dignissimos aspernatur ex qui architecto. Ipsam repellendus sit ipsa. Nihil eligendi accusamus esse repudiandae debitis. Dolore eligendi aut enim dolorem.\n",
      "\n",
      "Esse dicta hic id. Alias alias mollitia nihil porro voluptatem sit et. Maiores sint autem numquam.\n",
      "\n"
     ]
    }
   ],
   "source": [
    "file = Path('./data/lorem_ipsum.txt')\n",
    "\n",
    "with open(file, 'r', encoding='utf-8') as filein:\n",
    "    data = filein.read()\n",
    "\n",
    "print(data)"
   ]
  },
  {
   "cell_type": "code",
   "execution_count": 137,
   "metadata": {},
   "outputs": [
    {
     "data": {
      "text/plain": [
       "['Distinctio soluta deleniti quidem maiores et sed voluptas. Qui est quis libero dolor. Illo omnis quibusdam molestias et quis nam repudiandae sint.',\n",
       " 'Impedit quod repellendus dolor. Earum est dolorem non voluptas aut. Cum corporis aut aspernatur consequatur vel aut sit qui. Veniam sit dolorem omnis amet facilis nobis dolor. Eum magni sunt quia libero. Fuga voluptatem et voluptatem aut veritatis possimus.',\n",
       " 'Illum et deleniti nisi ex autem eum. Eveniet cum porro enim vitae sint consectetur. Fugit aut fugit inventore omnis. Quidem sint quia reprehenderit quae molestiae quia. Id facere similique et.',\n",
       " 'Vero dignissimos aspernatur ex qui architecto. Ipsam repellendus sit ipsa. Nihil eligendi accusamus esse repudiandae debitis. Dolore eligendi aut enim dolorem.',\n",
       " 'Esse dicta hic id. Alias alias mollitia nihil porro voluptatem sit et. Maiores sint autem numquam.']"
      ]
     },
     "execution_count": 137,
     "metadata": {},
     "output_type": "execute_result"
    }
   ],
   "source": [
    "with open(file, 'r', encoding='utf-8') as filein:\n",
    "    data = filein.readlines()\n",
    "    data = [line.strip() for line in data if line != '\\n']\n",
    "\n",
    "data"
   ]
  },
  {
   "cell_type": "markdown",
   "metadata": {},
   "source": [
    "### Dateien schreiben im Schreibmodus `r`"
   ]
  },
  {
   "cell_type": "code",
   "execution_count": 143,
   "metadata": {},
   "outputs": [],
   "source": [
    "def print_filecontent(filepath):\n",
    "    with open(filepath, 'r', encoding='utf-8') as filein:\n",
    "        print(filein.read())"
   ]
  },
  {
   "cell_type": "code",
   "execution_count": 151,
   "metadata": {},
   "outputs": [
    {
     "name": "stdout",
     "output_type": "stream",
     "text": [
      "Hello!\n"
     ]
    }
   ],
   "source": [
    "new_file = Path('./data/textfile.txt')\n",
    "\n",
    "with open(new_file, 'w', encoding='utf-8') as fileout:\n",
    "    fileout.write('Hello!')\n",
    "    \n",
    "print_filecontent(new_file)"
   ]
  },
  {
   "cell_type": "markdown",
   "metadata": {},
   "source": [
    "## Schreiben mit append `a`"
   ]
  },
  {
   "cell_type": "code",
   "execution_count": 152,
   "metadata": {},
   "outputs": [
    {
     "name": "stdout",
     "output_type": "stream",
     "text": [
      "Hello!\n",
      "Another hello!\n"
     ]
    }
   ],
   "source": [
    "# Append text to a file\n",
    "with open(new_file, 'a', encoding='utf-8') as fileout:\n",
    "    fileout.write('\\nAnother hello!')\n",
    "    \n",
    "print_filecontent(new_file)"
   ]
  },
  {
   "cell_type": "markdown",
   "metadata": {},
   "source": []
  },
  {
   "cell_type": "markdown",
   "metadata": {},
   "source": [
    "## `shelve`"
   ]
  },
  {
   "cell_type": "code",
   "execution_count": null,
   "metadata": {},
   "outputs": [],
   "source": []
  }
 ],
 "metadata": {
  "kernelspec": {
   "display_name": "venv",
   "language": "python",
   "name": "python3"
  },
  "language_info": {
   "codemirror_mode": {
    "name": "ipython",
    "version": 3
   },
   "file_extension": ".py",
   "mimetype": "text/x-python",
   "name": "python",
   "nbconvert_exporter": "python",
   "pygments_lexer": "ipython3",
   "version": "3.10.13"
  }
 },
 "nbformat": 4,
 "nbformat_minor": 2
}
