{
 "cells": [
  {
   "cell_type": "markdown",
   "metadata": {},
   "source": [
    "# Data Librarian - Modul 2 PyTerrier Tutorial\n",
    "## This notebook is based on a CIKM workshop\n",
    "https://github.com/terrier-org/cikm2021tutorial/blob/main/notebooks"
   ]
  },
  {
   "cell_type": "code",
   "execution_count": 1,
   "metadata": {},
   "outputs": [],
   "source": [
    "#learn more about pyterrier: https://pyterrier.readthedocs.io/en/latest/"
   ]
  },
  {
   "cell_type": "code",
   "execution_count": 3,
   "metadata": {},
   "outputs": [],
   "source": [
    "# install pyterrier\n",
    "# %pip install python-terrier\n",
    "# %pip install nltk^"
   ]
  },
  {
   "cell_type": "code",
   "execution_count": 1,
   "metadata": {},
   "outputs": [
    {
     "name": "stderr",
     "output_type": "stream",
     "text": [
      "/Users/thomas/Coding/data-librarian/2023-2024_Data_Librarian_Thomas_Schmidt/Modul_2/pyterrier-tut/venv/lib/python3.8/site-packages/tqdm/auto.py:21: TqdmWarning: IProgress not found. Please update jupyter and ipywidgets. See https://ipywidgets.readthedocs.io/en/stable/user_install.html\n",
      "  from .autonotebook import tqdm as notebook_tqdm\n"
     ]
    }
   ],
   "source": [
    "import pyterrier as pt\n",
    "import requests\n",
    "import pandas as pd\n",
    "import pickle\n",
    "import nltk\n",
    "import numpy as np"
   ]
  },
  {
   "cell_type": "code",
   "execution_count": 2,
   "metadata": {},
   "outputs": [],
   "source": [
    "query = \"artificial intelligence\"\n",
    "url =  f\"https://www.bibsonomy.org/json/search/{query}?items=1000\""
   ]
  },
  {
   "cell_type": "code",
   "execution_count": 3,
   "metadata": {},
   "outputs": [],
   "source": [
    "res = requests.get(url)"
   ]
  },
  {
   "cell_type": "code",
   "execution_count": 4,
   "metadata": {},
   "outputs": [],
   "source": [
    "data = res.json()"
   ]
  },
  {
   "cell_type": "code",
   "execution_count": 5,
   "metadata": {},
   "outputs": [],
   "source": [
    "df_ai = pd.DataFrame(data[\"items\"])\n",
    "df_ai = df_ai[df_ai[\"type\"] == \"Publication\"]"
   ]
  },
  {
   "cell_type": "code",
   "execution_count": 6,
   "metadata": {},
   "outputs": [
    {
     "data": {
      "text/html": [
       "<div>\n",
       "<style scoped>\n",
       "    .dataframe tbody tr th:only-of-type {\n",
       "        vertical-align: middle;\n",
       "    }\n",
       "\n",
       "    .dataframe tbody tr th {\n",
       "        vertical-align: top;\n",
       "    }\n",
       "\n",
       "    .dataframe thead th {\n",
       "        text-align: right;\n",
       "    }\n",
       "</style>\n",
       "<table border=\"1\" class=\"dataframe\">\n",
       "  <thead>\n",
       "    <tr style=\"text-align: right;\">\n",
       "      <th></th>\n",
       "      <th>type</th>\n",
       "      <th>id</th>\n",
       "      <th>tags</th>\n",
       "      <th>intraHash</th>\n",
       "      <th>label</th>\n",
       "      <th>user</th>\n",
       "      <th>description</th>\n",
       "      <th>date</th>\n",
       "      <th>changeDate</th>\n",
       "      <th>count</th>\n",
       "      <th>...</th>\n",
       "      <th>keyword</th>\n",
       "      <th>issue</th>\n",
       "      <th>pdf</th>\n",
       "      <th>broken</th>\n",
       "      <th>optseries</th>\n",
       "      <th>position</th>\n",
       "      <th>category</th>\n",
       "      <th>impact</th>\n",
       "      <th>quartile</th>\n",
       "      <th>citedreferences</th>\n",
       "    </tr>\n",
       "  </thead>\n",
       "  <tbody>\n",
       "    <tr>\n",
       "      <th>1000</th>\n",
       "      <td>Publication</td>\n",
       "      <td>https://www.bibsonomy.org/bibtex/24e338b04bc2a...</td>\n",
       "      <td>[710-714]</td>\n",
       "      <td>4e338b04bc2abafd9fa0a1f4fe79103a</td>\n",
       "      <td>Artificial Intelligence in Agriculture</td>\n",
       "      <td>ijtsrd</td>\n",
       "      <td></td>\n",
       "      <td>2021-04-13 13:15:04</td>\n",
       "      <td>2021-04-13 13:15:04</td>\n",
       "      <td>1</td>\n",
       "      <td>...</td>\n",
       "      <td>NaN</td>\n",
       "      <td>NaN</td>\n",
       "      <td>NaN</td>\n",
       "      <td>NaN</td>\n",
       "      <td>NaN</td>\n",
       "      <td>NaN</td>\n",
       "      <td>NaN</td>\n",
       "      <td>NaN</td>\n",
       "      <td>NaN</td>\n",
       "      <td>NaN</td>\n",
       "    </tr>\n",
       "    <tr>\n",
       "      <th>1001</th>\n",
       "      <td>Publication</td>\n",
       "      <td>https://www.bibsonomy.org/bibtex/29f3b59303571...</td>\n",
       "      <td>[Artificial, Intelligence, Risks, and, Benefits]</td>\n",
       "      <td>9f3b593035714a894c265f4fb9c535e7</td>\n",
       "      <td>Artificial Intelligence Benefit and Risks</td>\n",
       "      <td>ijtsrd</td>\n",
       "      <td></td>\n",
       "      <td>2020-05-14 10:40:49</td>\n",
       "      <td>2020-05-14 10:40:49</td>\n",
       "      <td>1</td>\n",
       "      <td>...</td>\n",
       "      <td>NaN</td>\n",
       "      <td>NaN</td>\n",
       "      <td>NaN</td>\n",
       "      <td>NaN</td>\n",
       "      <td>NaN</td>\n",
       "      <td>NaN</td>\n",
       "      <td>NaN</td>\n",
       "      <td>NaN</td>\n",
       "      <td>NaN</td>\n",
       "      <td>NaN</td>\n",
       "    </tr>\n",
       "    <tr>\n",
       "      <th>1002</th>\n",
       "      <td>Publication</td>\n",
       "      <td>https://www.bibsonomy.org/bibtex/24bc08fb79365...</td>\n",
       "      <td>[ANN, Fuzzylogic, ElectricalEngineering, Artif...</td>\n",
       "      <td>4bc08fb79365b5bc698af1cd97fc1a75</td>\n",
       "      <td>Artificial Intelligence in Power Station</td>\n",
       "      <td>ijtsrd</td>\n",
       "      <td></td>\n",
       "      <td>2020-01-10 09:23:37</td>\n",
       "      <td>2020-01-10 09:23:37</td>\n",
       "      <td>1</td>\n",
       "      <td>...</td>\n",
       "      <td>NaN</td>\n",
       "      <td>NaN</td>\n",
       "      <td>NaN</td>\n",
       "      <td>NaN</td>\n",
       "      <td>NaN</td>\n",
       "      <td>NaN</td>\n",
       "      <td>NaN</td>\n",
       "      <td>NaN</td>\n",
       "      <td>NaN</td>\n",
       "      <td>NaN</td>\n",
       "    </tr>\n",
       "    <tr>\n",
       "      <th>1003</th>\n",
       "      <td>Publication</td>\n",
       "      <td>https://www.bibsonomy.org/bibtex/29f87881e4dec...</td>\n",
       "      <td>[Artificial, Intelligence, Markup, Chatbot, La...</td>\n",
       "      <td>9f87881e4decfde15a1af630c8ea27d5</td>\n",
       "      <td>Artificial Intelligence Based Training and Pla...</td>\n",
       "      <td>ijtsrd</td>\n",
       "      <td></td>\n",
       "      <td>2019-03-26 12:35:44</td>\n",
       "      <td>2019-03-26 12:35:44</td>\n",
       "      <td>1</td>\n",
       "      <td>...</td>\n",
       "      <td>NaN</td>\n",
       "      <td>NaN</td>\n",
       "      <td>NaN</td>\n",
       "      <td>NaN</td>\n",
       "      <td>NaN</td>\n",
       "      <td>NaN</td>\n",
       "      <td>NaN</td>\n",
       "      <td>NaN</td>\n",
       "      <td>NaN</td>\n",
       "      <td>NaN</td>\n",
       "    </tr>\n",
       "    <tr>\n",
       "      <th>1004</th>\n",
       "      <td>Publication</td>\n",
       "      <td>https://www.bibsonomy.org/bibtex/263320f0ab96a...</td>\n",
       "      <td>[Learning,, Systems,, Artificialintelligence, ...</td>\n",
       "      <td>63320f0ab96ae778b51b2376aa914f59</td>\n",
       "      <td>The Significance of Artificial Intelligence in...</td>\n",
       "      <td>ijtsrd</td>\n",
       "      <td></td>\n",
       "      <td>2023-10-14 13:59:49</td>\n",
       "      <td>2023-10-14 13:59:49</td>\n",
       "      <td>1</td>\n",
       "      <td>...</td>\n",
       "      <td>NaN</td>\n",
       "      <td>NaN</td>\n",
       "      <td>NaN</td>\n",
       "      <td>NaN</td>\n",
       "      <td>NaN</td>\n",
       "      <td>NaN</td>\n",
       "      <td>NaN</td>\n",
       "      <td>NaN</td>\n",
       "      <td>NaN</td>\n",
       "      <td>NaN</td>\n",
       "    </tr>\n",
       "  </tbody>\n",
       "</table>\n",
       "<p>5 rows × 150 columns</p>\n",
       "</div>"
      ],
      "text/plain": [
       "             type                                                 id  \\\n",
       "1000  Publication  https://www.bibsonomy.org/bibtex/24e338b04bc2a...   \n",
       "1001  Publication  https://www.bibsonomy.org/bibtex/29f3b59303571...   \n",
       "1002  Publication  https://www.bibsonomy.org/bibtex/24bc08fb79365...   \n",
       "1003  Publication  https://www.bibsonomy.org/bibtex/29f87881e4dec...   \n",
       "1004  Publication  https://www.bibsonomy.org/bibtex/263320f0ab96a...   \n",
       "\n",
       "                                                   tags  \\\n",
       "1000                                          [710-714]   \n",
       "1001   [Artificial, Intelligence, Risks, and, Benefits]   \n",
       "1002  [ANN, Fuzzylogic, ElectricalEngineering, Artif...   \n",
       "1003  [Artificial, Intelligence, Markup, Chatbot, La...   \n",
       "1004  [Learning,, Systems,, Artificialintelligence, ...   \n",
       "\n",
       "                             intraHash  \\\n",
       "1000  4e338b04bc2abafd9fa0a1f4fe79103a   \n",
       "1001  9f3b593035714a894c265f4fb9c535e7   \n",
       "1002  4bc08fb79365b5bc698af1cd97fc1a75   \n",
       "1003  9f87881e4decfde15a1af630c8ea27d5   \n",
       "1004  63320f0ab96ae778b51b2376aa914f59   \n",
       "\n",
       "                                                  label    user description  \\\n",
       "1000             Artificial Intelligence in Agriculture  ijtsrd               \n",
       "1001          Artificial Intelligence Benefit and Risks  ijtsrd               \n",
       "1002           Artificial Intelligence in Power Station  ijtsrd               \n",
       "1003  Artificial Intelligence Based Training and Pla...  ijtsrd               \n",
       "1004  The Significance of Artificial Intelligence in...  ijtsrd               \n",
       "\n",
       "                     date           changeDate  count  ... keyword issue  pdf  \\\n",
       "1000  2021-04-13 13:15:04  2021-04-13 13:15:04      1  ...     NaN   NaN  NaN   \n",
       "1001  2020-05-14 10:40:49  2020-05-14 10:40:49      1  ...     NaN   NaN  NaN   \n",
       "1002  2020-01-10 09:23:37  2020-01-10 09:23:37      1  ...     NaN   NaN  NaN   \n",
       "1003  2019-03-26 12:35:44  2019-03-26 12:35:44      1  ...     NaN   NaN  NaN   \n",
       "1004  2023-10-14 13:59:49  2023-10-14 13:59:49      1  ...     NaN   NaN  NaN   \n",
       "\n",
       "     broken optseries position category impact quartile citedreferences  \n",
       "1000    NaN       NaN      NaN      NaN    NaN      NaN             NaN  \n",
       "1001    NaN       NaN      NaN      NaN    NaN      NaN             NaN  \n",
       "1002    NaN       NaN      NaN      NaN    NaN      NaN             NaN  \n",
       "1003    NaN       NaN      NaN      NaN    NaN      NaN             NaN  \n",
       "1004    NaN       NaN      NaN      NaN    NaN      NaN             NaN  \n",
       "\n",
       "[5 rows x 150 columns]"
      ]
     },
     "execution_count": 6,
     "metadata": {},
     "output_type": "execute_result"
    }
   ],
   "source": [
    "df_ai.head()"
   ]
  },
  {
   "cell_type": "code",
   "execution_count": 7,
   "metadata": {},
   "outputs": [],
   "source": [
    "#drops columns where at least 50% of the rows have missing values\n",
    "df_ai_filtered = df_ai.dropna(axis=1, thresh=len(df_ai)*0.5)"
   ]
  },
  {
   "cell_type": "code",
   "execution_count": 8,
   "metadata": {},
   "outputs": [
    {
     "data": {
      "text/html": [
       "<div>\n",
       "<style scoped>\n",
       "    .dataframe tbody tr th:only-of-type {\n",
       "        vertical-align: middle;\n",
       "    }\n",
       "\n",
       "    .dataframe tbody tr th {\n",
       "        vertical-align: top;\n",
       "    }\n",
       "\n",
       "    .dataframe thead th {\n",
       "        text-align: right;\n",
       "    }\n",
       "</style>\n",
       "<table border=\"1\" class=\"dataframe\">\n",
       "  <thead>\n",
       "    <tr style=\"text-align: right;\">\n",
       "      <th></th>\n",
       "      <th>type</th>\n",
       "      <th>id</th>\n",
       "      <th>tags</th>\n",
       "      <th>intraHash</th>\n",
       "      <th>label</th>\n",
       "      <th>user</th>\n",
       "      <th>description</th>\n",
       "      <th>date</th>\n",
       "      <th>changeDate</th>\n",
       "      <th>count</th>\n",
       "      <th>url</th>\n",
       "      <th>interHash</th>\n",
       "      <th>pub-type</th>\n",
       "      <th>year</th>\n",
       "      <th>author</th>\n",
       "      <th>authors</th>\n",
       "      <th>volume</th>\n",
       "      <th>pages</th>\n",
       "      <th>bibtexKey</th>\n",
       "      <th>publisher</th>\n",
       "    </tr>\n",
       "  </thead>\n",
       "  <tbody>\n",
       "    <tr>\n",
       "      <th>1000</th>\n",
       "      <td>Publication</td>\n",
       "      <td>https://www.bibsonomy.org/bibtex/24e338b04bc2a...</td>\n",
       "      <td>[710-714]</td>\n",
       "      <td>4e338b04bc2abafd9fa0a1f4fe79103a</td>\n",
       "      <td>Artificial Intelligence in Agriculture</td>\n",
       "      <td>ijtsrd</td>\n",
       "      <td></td>\n",
       "      <td>2021-04-13 13:15:04</td>\n",
       "      <td>2021-04-13 13:15:04</td>\n",
       "      <td>1</td>\n",
       "      <td>https://www.ijtsrd.com/engineering/electrical-...</td>\n",
       "      <td>4d2f7caf67c19f0ff98f5cb8a04fb14d</td>\n",
       "      <td>article</td>\n",
       "      <td>2021</td>\n",
       "      <td>[Matthew N. O. Sadiku | Sarhan M. Musa | Abayo...</td>\n",
       "      <td>[{'first': 'Matthew N. O. Sadiku | Sarhan M. M...</td>\n",
       "      <td>5</td>\n",
       "      <td>710-714</td>\n",
       "      <td>conf/icegov/MalhotraA20</td>\n",
       "      <td>NaN</td>\n",
       "    </tr>\n",
       "    <tr>\n",
       "      <th>1001</th>\n",
       "      <td>Publication</td>\n",
       "      <td>https://www.bibsonomy.org/bibtex/29f3b59303571...</td>\n",
       "      <td>[Artificial, Intelligence, Risks, and, Benefits]</td>\n",
       "      <td>9f3b593035714a894c265f4fb9c535e7</td>\n",
       "      <td>Artificial Intelligence Benefit and Risks</td>\n",
       "      <td>ijtsrd</td>\n",
       "      <td></td>\n",
       "      <td>2020-05-14 10:40:49</td>\n",
       "      <td>2020-05-14 10:40:49</td>\n",
       "      <td>1</td>\n",
       "      <td>https://www.ijtsrd.com/computer-science/artifi...</td>\n",
       "      <td>ebd51221b66e0a22976b6bf55dcc8b89</td>\n",
       "      <td>article</td>\n",
       "      <td>2020</td>\n",
       "      <td>[Seeta M. Chauhan]</td>\n",
       "      <td>[{'first': 'Seeta M.', 'last': 'Chauhan'}]</td>\n",
       "      <td>4</td>\n",
       "      <td>1007-1009</td>\n",
       "      <td>noauthororeditor</td>\n",
       "      <td>NaN</td>\n",
       "    </tr>\n",
       "    <tr>\n",
       "      <th>1002</th>\n",
       "      <td>Publication</td>\n",
       "      <td>https://www.bibsonomy.org/bibtex/24bc08fb79365...</td>\n",
       "      <td>[ANN, Fuzzylogic, ElectricalEngineering, Artif...</td>\n",
       "      <td>4bc08fb79365b5bc698af1cd97fc1a75</td>\n",
       "      <td>Artificial Intelligence in Power Station</td>\n",
       "      <td>ijtsrd</td>\n",
       "      <td></td>\n",
       "      <td>2020-01-10 09:23:37</td>\n",
       "      <td>2020-01-10 09:23:37</td>\n",
       "      <td>1</td>\n",
       "      <td>https://www.ijtsrd.com/engineering/electrical-...</td>\n",
       "      <td>2b5bf53f5cc143129b642869065d06cc</td>\n",
       "      <td>article</td>\n",
       "      <td>2019</td>\n",
       "      <td>[P. Naveen | S. Nikitha | P. Sudeesh | V. Vais...</td>\n",
       "      <td>[{'first': 'P. Naveen | S. Nikitha | P. Sudees...</td>\n",
       "      <td>4</td>\n",
       "      <td>1020-1025</td>\n",
       "      <td>noauthororeditor</td>\n",
       "      <td>NaN</td>\n",
       "    </tr>\n",
       "    <tr>\n",
       "      <th>1003</th>\n",
       "      <td>Publication</td>\n",
       "      <td>https://www.bibsonomy.org/bibtex/29f87881e4dec...</td>\n",
       "      <td>[Artificial, Intelligence, Markup, Chatbot, La...</td>\n",
       "      <td>9f87881e4decfde15a1af630c8ea27d5</td>\n",
       "      <td>Artificial Intelligence Based Training and Pla...</td>\n",
       "      <td>ijtsrd</td>\n",
       "      <td></td>\n",
       "      <td>2019-03-26 12:35:44</td>\n",
       "      <td>2019-03-26 12:35:44</td>\n",
       "      <td>1</td>\n",
       "      <td>http://www.ijtsrd.com/computer-science/artific...</td>\n",
       "      <td>4fd6139b2f85d67ccf1a1943139555f0</td>\n",
       "      <td>article</td>\n",
       "      <td>2018</td>\n",
       "      <td>[Krishanu Deb | Pankaj Agrawal | Harish Nawale...</td>\n",
       "      <td>[{'first': 'Krishanu Deb | Pankaj Agrawal | Ha...</td>\n",
       "      <td>3</td>\n",
       "      <td>1057-1060</td>\n",
       "      <td>noauthororeditor</td>\n",
       "      <td>NaN</td>\n",
       "    </tr>\n",
       "    <tr>\n",
       "      <th>1004</th>\n",
       "      <td>Publication</td>\n",
       "      <td>https://www.bibsonomy.org/bibtex/263320f0ab96a...</td>\n",
       "      <td>[Learning,, Systems,, Artificialintelligence, ...</td>\n",
       "      <td>63320f0ab96ae778b51b2376aa914f59</td>\n",
       "      <td>The Significance of Artificial Intelligence in...</td>\n",
       "      <td>ijtsrd</td>\n",
       "      <td></td>\n",
       "      <td>2023-10-14 13:59:49</td>\n",
       "      <td>2023-10-14 13:59:49</td>\n",
       "      <td>1</td>\n",
       "      <td>https://www.ijtsrd.com/computer-science/artifi...</td>\n",
       "      <td>ce9618fb026d6db7108c7254d417554a</td>\n",
       "      <td>article</td>\n",
       "      <td>2023</td>\n",
       "      <td>[Dr. Atul Kumar Mishra]</td>\n",
       "      <td>[{'first': 'Dr. Atul Kumar', 'last': 'Mishra'}]</td>\n",
       "      <td>7</td>\n",
       "      <td>786-788</td>\n",
       "      <td>noauthororeditor</td>\n",
       "      <td>NaN</td>\n",
       "    </tr>\n",
       "    <tr>\n",
       "      <th>1005</th>\n",
       "      <td>Publication</td>\n",
       "      <td>https://www.bibsonomy.org/bibtex/2f76cb3964bef...</td>\n",
       "      <td>[explanation]</td>\n",
       "      <td>f76cb3964befb565e8456efb255b9918</td>\n",
       "      <td>Explanation in artificial intelligence: Insigh...</td>\n",
       "      <td>brusilovsky</td>\n",
       "      <td>Explanation in artificial intelligence: Insigh...</td>\n",
       "      <td>2023-06-05 00:07:52</td>\n",
       "      <td>2023-06-05 00:07:52</td>\n",
       "      <td>2</td>\n",
       "      <td>https://www.sciencedirect.com/science/article/...</td>\n",
       "      <td>924bf61b21094d9c52e30f705ff72365</td>\n",
       "      <td>article</td>\n",
       "      <td>2019</td>\n",
       "      <td>[Tim Miller]</td>\n",
       "      <td>[{'first': 'Tim', 'last': 'Miller'}]</td>\n",
       "      <td>267</td>\n",
       "      <td>1-38</td>\n",
       "      <td>MILLER20191</td>\n",
       "      <td>NaN</td>\n",
       "    </tr>\n",
       "    <tr>\n",
       "      <th>1006</th>\n",
       "      <td>Publication</td>\n",
       "      <td>https://www.bibsonomy.org/bibtex/219d04dda236d...</td>\n",
       "      <td>[simulation, ai]</td>\n",
       "      <td>19d04dda236da5a4e7592a9eb2d4f5eb</td>\n",
       "      <td>A framework for Integrating Artificial Intelli...</td>\n",
       "      <td>mardukasoka</td>\n",
       "      <td>A framework for Integrating Artificial Intelli...</td>\n",
       "      <td>2017-04-29 16:53:32</td>\n",
       "      <td>2017-04-29 16:53:32</td>\n",
       "      <td>2</td>\n",
       "      <td>http://dx.doi.org/10.1007/BF00851350</td>\n",
       "      <td>7f175ce43cdc3c37efa038de41588165</td>\n",
       "      <td>article</td>\n",
       "      <td>1994</td>\n",
       "      <td>[Georgios I. Doukidis, Marios C. Angelides]</td>\n",
       "      <td>[{'first': 'Georgios I.', 'last': 'Doukidis'},...</td>\n",
       "      <td>8</td>\n",
       "      <td>55--85</td>\n",
       "      <td>Doukidis1994</td>\n",
       "      <td>NaN</td>\n",
       "    </tr>\n",
       "    <tr>\n",
       "      <th>1007</th>\n",
       "      <td>Publication</td>\n",
       "      <td>https://www.bibsonomy.org/bibtex/28a86ca74e262...</td>\n",
       "      <td>[(AI),, Behavior,, Intelligent, Artificialinte...</td>\n",
       "      <td>8a86ca74e262b9883c8dd4a7c60f1652</td>\n",
       "      <td>Artificial Intelligence Role in Modern Science...</td>\n",
       "      <td>ijtsrd</td>\n",
       "      <td></td>\n",
       "      <td>2024-01-05 10:08:27</td>\n",
       "      <td>2024-01-05 10:08:27</td>\n",
       "      <td>1</td>\n",
       "      <td>https://www.ijtsrd.com/computer-science/artifi...</td>\n",
       "      <td>1c66e4c94b299521b1f28370ecc7d992</td>\n",
       "      <td>article</td>\n",
       "      <td>2023</td>\n",
       "      <td>[Manish Verma]</td>\n",
       "      <td>[{'first': 'Manish', 'last': 'Verma'}]</td>\n",
       "      <td>7</td>\n",
       "      <td>335-342</td>\n",
       "      <td>journals/orl/LeiAG93</td>\n",
       "      <td>NaN</td>\n",
       "    </tr>\n",
       "    <tr>\n",
       "      <th>1008</th>\n",
       "      <td>Publication</td>\n",
       "      <td>https://www.bibsonomy.org/bibtex/2b31f13f50e07...</td>\n",
       "      <td>[Human, Intelligence,, Creativity,, Artificial...</td>\n",
       "      <td>b31f13f50e07ac7e22de4ea993ba89ee</td>\n",
       "      <td>Artificial Intelligence Catalyzes a Revolution...</td>\n",
       "      <td>ijtsrd</td>\n",
       "      <td></td>\n",
       "      <td>2022-07-22 08:10:40</td>\n",
       "      <td>2022-07-22 08:10:40</td>\n",
       "      <td>1</td>\n",
       "      <td>https://www.ijtsrd.com/computer-science/artifi...</td>\n",
       "      <td>263807d9148a04b13988e49c997dbdc5</td>\n",
       "      <td>article</td>\n",
       "      <td>2022</td>\n",
       "      <td>[Avani Goenka]</td>\n",
       "      <td>[{'first': 'Avani', 'last': 'Goenka'}]</td>\n",
       "      <td>6</td>\n",
       "      <td>83-85</td>\n",
       "      <td>noauthororeditor</td>\n",
       "      <td>NaN</td>\n",
       "    </tr>\n",
       "    <tr>\n",
       "      <th>1009</th>\n",
       "      <td>Publication</td>\n",
       "      <td>https://www.bibsonomy.org/bibtex/2c6e8dcc6939a...</td>\n",
       "      <td>[Aayog, Artificialintelligence, Intelligence, ...</td>\n",
       "      <td>c6e8dcc6939a3a8145af0bfcb66613d0</td>\n",
       "      <td>Analysis and Comparative Study of the Developm...</td>\n",
       "      <td>ijtsrd</td>\n",
       "      <td></td>\n",
       "      <td>2020-07-16 11:09:36</td>\n",
       "      <td>2020-07-16 11:09:36</td>\n",
       "      <td>1</td>\n",
       "      <td>https://www.ijtsrd.com/computer-science/artifi...</td>\n",
       "      <td>92c24539b64e8d7ff6bb6af6da6e7ad2</td>\n",
       "      <td>article</td>\n",
       "      <td>2020</td>\n",
       "      <td>[Chinmaya Naik | Sonali Jain | Jai Sehgal]</td>\n",
       "      <td>[{'first': 'Chinmaya Naik | Sonali Jain | Jai'...</td>\n",
       "      <td>4</td>\n",
       "      <td>892-898</td>\n",
       "      <td>noauthororeditor</td>\n",
       "      <td>NaN</td>\n",
       "    </tr>\n",
       "  </tbody>\n",
       "</table>\n",
       "</div>"
      ],
      "text/plain": [
       "             type                                                 id  \\\n",
       "1000  Publication  https://www.bibsonomy.org/bibtex/24e338b04bc2a...   \n",
       "1001  Publication  https://www.bibsonomy.org/bibtex/29f3b59303571...   \n",
       "1002  Publication  https://www.bibsonomy.org/bibtex/24bc08fb79365...   \n",
       "1003  Publication  https://www.bibsonomy.org/bibtex/29f87881e4dec...   \n",
       "1004  Publication  https://www.bibsonomy.org/bibtex/263320f0ab96a...   \n",
       "1005  Publication  https://www.bibsonomy.org/bibtex/2f76cb3964bef...   \n",
       "1006  Publication  https://www.bibsonomy.org/bibtex/219d04dda236d...   \n",
       "1007  Publication  https://www.bibsonomy.org/bibtex/28a86ca74e262...   \n",
       "1008  Publication  https://www.bibsonomy.org/bibtex/2b31f13f50e07...   \n",
       "1009  Publication  https://www.bibsonomy.org/bibtex/2c6e8dcc6939a...   \n",
       "\n",
       "                                                   tags  \\\n",
       "1000                                          [710-714]   \n",
       "1001   [Artificial, Intelligence, Risks, and, Benefits]   \n",
       "1002  [ANN, Fuzzylogic, ElectricalEngineering, Artif...   \n",
       "1003  [Artificial, Intelligence, Markup, Chatbot, La...   \n",
       "1004  [Learning,, Systems,, Artificialintelligence, ...   \n",
       "1005                                      [explanation]   \n",
       "1006                                   [simulation, ai]   \n",
       "1007  [(AI),, Behavior,, Intelligent, Artificialinte...   \n",
       "1008  [Human, Intelligence,, Creativity,, Artificial...   \n",
       "1009  [Aayog, Artificialintelligence, Intelligence, ...   \n",
       "\n",
       "                             intraHash  \\\n",
       "1000  4e338b04bc2abafd9fa0a1f4fe79103a   \n",
       "1001  9f3b593035714a894c265f4fb9c535e7   \n",
       "1002  4bc08fb79365b5bc698af1cd97fc1a75   \n",
       "1003  9f87881e4decfde15a1af630c8ea27d5   \n",
       "1004  63320f0ab96ae778b51b2376aa914f59   \n",
       "1005  f76cb3964befb565e8456efb255b9918   \n",
       "1006  19d04dda236da5a4e7592a9eb2d4f5eb   \n",
       "1007  8a86ca74e262b9883c8dd4a7c60f1652   \n",
       "1008  b31f13f50e07ac7e22de4ea993ba89ee   \n",
       "1009  c6e8dcc6939a3a8145af0bfcb66613d0   \n",
       "\n",
       "                                                  label         user  \\\n",
       "1000             Artificial Intelligence in Agriculture       ijtsrd   \n",
       "1001          Artificial Intelligence Benefit and Risks       ijtsrd   \n",
       "1002           Artificial Intelligence in Power Station       ijtsrd   \n",
       "1003  Artificial Intelligence Based Training and Pla...       ijtsrd   \n",
       "1004  The Significance of Artificial Intelligence in...       ijtsrd   \n",
       "1005  Explanation in artificial intelligence: Insigh...  brusilovsky   \n",
       "1006  A framework for Integrating Artificial Intelli...  mardukasoka   \n",
       "1007  Artificial Intelligence Role in Modern Science...       ijtsrd   \n",
       "1008  Artificial Intelligence Catalyzes a Revolution...       ijtsrd   \n",
       "1009  Analysis and Comparative Study of the Developm...       ijtsrd   \n",
       "\n",
       "                                            description                 date  \\\n",
       "1000                                                     2021-04-13 13:15:04   \n",
       "1001                                                     2020-05-14 10:40:49   \n",
       "1002                                                     2020-01-10 09:23:37   \n",
       "1003                                                     2019-03-26 12:35:44   \n",
       "1004                                                     2023-10-14 13:59:49   \n",
       "1005  Explanation in artificial intelligence: Insigh...  2023-06-05 00:07:52   \n",
       "1006  A framework for Integrating Artificial Intelli...  2017-04-29 16:53:32   \n",
       "1007                                                     2024-01-05 10:08:27   \n",
       "1008                                                     2022-07-22 08:10:40   \n",
       "1009                                                     2020-07-16 11:09:36   \n",
       "\n",
       "               changeDate  count  \\\n",
       "1000  2021-04-13 13:15:04      1   \n",
       "1001  2020-05-14 10:40:49      1   \n",
       "1002  2020-01-10 09:23:37      1   \n",
       "1003  2019-03-26 12:35:44      1   \n",
       "1004  2023-10-14 13:59:49      1   \n",
       "1005  2023-06-05 00:07:52      2   \n",
       "1006  2017-04-29 16:53:32      2   \n",
       "1007  2024-01-05 10:08:27      1   \n",
       "1008  2022-07-22 08:10:40      1   \n",
       "1009  2020-07-16 11:09:36      1   \n",
       "\n",
       "                                                    url  \\\n",
       "1000  https://www.ijtsrd.com/engineering/electrical-...   \n",
       "1001  https://www.ijtsrd.com/computer-science/artifi...   \n",
       "1002  https://www.ijtsrd.com/engineering/electrical-...   \n",
       "1003  http://www.ijtsrd.com/computer-science/artific...   \n",
       "1004  https://www.ijtsrd.com/computer-science/artifi...   \n",
       "1005  https://www.sciencedirect.com/science/article/...   \n",
       "1006               http://dx.doi.org/10.1007/BF00851350   \n",
       "1007  https://www.ijtsrd.com/computer-science/artifi...   \n",
       "1008  https://www.ijtsrd.com/computer-science/artifi...   \n",
       "1009  https://www.ijtsrd.com/computer-science/artifi...   \n",
       "\n",
       "                             interHash pub-type  year  \\\n",
       "1000  4d2f7caf67c19f0ff98f5cb8a04fb14d  article  2021   \n",
       "1001  ebd51221b66e0a22976b6bf55dcc8b89  article  2020   \n",
       "1002  2b5bf53f5cc143129b642869065d06cc  article  2019   \n",
       "1003  4fd6139b2f85d67ccf1a1943139555f0  article  2018   \n",
       "1004  ce9618fb026d6db7108c7254d417554a  article  2023   \n",
       "1005  924bf61b21094d9c52e30f705ff72365  article  2019   \n",
       "1006  7f175ce43cdc3c37efa038de41588165  article  1994   \n",
       "1007  1c66e4c94b299521b1f28370ecc7d992  article  2023   \n",
       "1008  263807d9148a04b13988e49c997dbdc5  article  2022   \n",
       "1009  92c24539b64e8d7ff6bb6af6da6e7ad2  article  2020   \n",
       "\n",
       "                                                 author  \\\n",
       "1000  [Matthew N. O. Sadiku | Sarhan M. Musa | Abayo...   \n",
       "1001                                 [Seeta M. Chauhan]   \n",
       "1002  [P. Naveen | S. Nikitha | P. Sudeesh | V. Vais...   \n",
       "1003  [Krishanu Deb | Pankaj Agrawal | Harish Nawale...   \n",
       "1004                            [Dr. Atul Kumar Mishra]   \n",
       "1005                                       [Tim Miller]   \n",
       "1006        [Georgios I. Doukidis, Marios C. Angelides]   \n",
       "1007                                     [Manish Verma]   \n",
       "1008                                     [Avani Goenka]   \n",
       "1009         [Chinmaya Naik | Sonali Jain | Jai Sehgal]   \n",
       "\n",
       "                                                authors volume      pages  \\\n",
       "1000  [{'first': 'Matthew N. O. Sadiku | Sarhan M. M...      5    710-714   \n",
       "1001         [{'first': 'Seeta M.', 'last': 'Chauhan'}]      4  1007-1009   \n",
       "1002  [{'first': 'P. Naveen | S. Nikitha | P. Sudees...      4  1020-1025   \n",
       "1003  [{'first': 'Krishanu Deb | Pankaj Agrawal | Ha...      3  1057-1060   \n",
       "1004    [{'first': 'Dr. Atul Kumar', 'last': 'Mishra'}]      7    786-788   \n",
       "1005               [{'first': 'Tim', 'last': 'Miller'}]    267       1-38   \n",
       "1006  [{'first': 'Georgios I.', 'last': 'Doukidis'},...      8     55--85   \n",
       "1007             [{'first': 'Manish', 'last': 'Verma'}]      7    335-342   \n",
       "1008             [{'first': 'Avani', 'last': 'Goenka'}]      6      83-85   \n",
       "1009  [{'first': 'Chinmaya Naik | Sonali Jain | Jai'...      4    892-898   \n",
       "\n",
       "                    bibtexKey publisher  \n",
       "1000  conf/icegov/MalhotraA20       NaN  \n",
       "1001         noauthororeditor       NaN  \n",
       "1002         noauthororeditor       NaN  \n",
       "1003         noauthororeditor       NaN  \n",
       "1004         noauthororeditor       NaN  \n",
       "1005              MILLER20191       NaN  \n",
       "1006             Doukidis1994       NaN  \n",
       "1007     journals/orl/LeiAG93       NaN  \n",
       "1008         noauthororeditor       NaN  \n",
       "1009         noauthororeditor       NaN  "
      ]
     },
     "execution_count": 8,
     "metadata": {},
     "output_type": "execute_result"
    }
   ],
   "source": [
    "df_ai_filtered.head(10)"
   ]
  },
  {
   "cell_type": "code",
   "execution_count": 9,
   "metadata": {},
   "outputs": [
    {
     "data": {
      "text/plain": [
       "Index(['type', 'id', 'tags', 'intraHash', 'label', 'user', 'description',\n",
       "       'date', 'changeDate', 'count', 'url', 'interHash', 'pub-type', 'year',\n",
       "       'author', 'authors', 'volume', 'pages', 'bibtexKey', 'publisher'],\n",
       "      dtype='object')"
      ]
     },
     "execution_count": 9,
     "metadata": {},
     "output_type": "execute_result"
    }
   ],
   "source": [
    "df_ai_filtered.columns"
   ]
  },
  {
   "cell_type": "code",
   "execution_count": 10,
   "metadata": {},
   "outputs": [],
   "source": [
    "#lets only use columns which seems useful for us\n",
    "useful_coulmns = ['id', 'tags', 'label', 'description', 'date', 'changeDate', 'url', 'pub-type', 'year', 'author', 'authors', 'publisher']\n",
    "df_ai_filtered = df_ai_filtered[useful_coulmns]"
   ]
  },
  {
   "cell_type": "code",
   "execution_count": 11,
   "metadata": {},
   "outputs": [
    {
     "ename": "RuntimeError",
     "evalue": "\n        Unable to find libjvm.so, (tried ['/opt/homebrew/opt/openjdk/jre/lib/jli/libjli.dylib', '/opt/homebrew/opt/openjdk/lib/jli/libjli.dylib', '/opt/homebrew/opt/openjdk/lib/libjli.dylib'])\n        you can use the JVM_PATH env variable with the absolute path\n        to libjvm.so to override this lookup, if you know\n        where pyjnius should look for it.\n\n        e.g:\n            export JAVA_HOME=/usr/lib/jvm/java-8-oracle/\n            export JVM_PATH=/usr/lib/jvm/java-8-oracle/jre/lib/amd64/server/libjvm.so\n            # run your program\n        ",
     "output_type": "error",
     "traceback": [
      "\u001b[0;31m---------------------------------------------------------------------------\u001b[0m",
      "\u001b[0;31mRuntimeError\u001b[0m                              Traceback (most recent call last)",
      "Cell \u001b[0;32mIn[11], line 3\u001b[0m\n\u001b[1;32m      1\u001b[0m \u001b[38;5;66;03m#initialise pyterrier\u001b[39;00m\n\u001b[1;32m      2\u001b[0m \u001b[38;5;28;01mif\u001b[39;00m \u001b[38;5;129;01mnot\u001b[39;00m pt\u001b[38;5;241m.\u001b[39mstarted():\n\u001b[0;32m----> 3\u001b[0m     \u001b[43mpt\u001b[49m\u001b[38;5;241;43m.\u001b[39;49m\u001b[43minit\u001b[49m\u001b[43m(\u001b[49m\u001b[43m)\u001b[49m\n",
      "File \u001b[0;32m~/Coding/data-librarian/2023-2024_Data_Librarian_Thomas_Schmidt/Modul_2/pyterrier-tut/venv/lib/python3.8/site-packages/pyterrier/__init__.py:128\u001b[0m, in \u001b[0;36minit\u001b[0;34m(version, mem, packages, jvm_opts, redirect_io, logging, home_dir, boot_packages, tqdm, no_download, helper_version)\u001b[0m\n\u001b[1;32m    126\u001b[0m \u001b[38;5;28;01mif\u001b[39;00m mem \u001b[38;5;129;01mis\u001b[39;00m \u001b[38;5;129;01mnot\u001b[39;00m \u001b[38;5;28;01mNone\u001b[39;00m:\n\u001b[1;32m    127\u001b[0m     jnius_config\u001b[38;5;241m.\u001b[39madd_options(\u001b[38;5;124m'\u001b[39m\u001b[38;5;124m-Xmx\u001b[39m\u001b[38;5;124m'\u001b[39m \u001b[38;5;241m+\u001b[39m \u001b[38;5;28mstr\u001b[39m(mem) \u001b[38;5;241m+\u001b[39m \u001b[38;5;124m'\u001b[39m\u001b[38;5;124mm\u001b[39m\u001b[38;5;124m'\u001b[39m)\n\u001b[0;32m--> 128\u001b[0m \u001b[38;5;28;01mfrom\u001b[39;00m \u001b[38;5;21;01mjnius\u001b[39;00m \u001b[38;5;28;01mimport\u001b[39;00m autoclass, cast\n\u001b[1;32m    130\u001b[0m \u001b[38;5;66;03m# we only accept Java version 11 and newer; so anything starting 1. or 9. is too old\u001b[39;00m\n\u001b[1;32m    131\u001b[0m java_version \u001b[38;5;241m=\u001b[39m autoclass(\u001b[38;5;124m\"\u001b[39m\u001b[38;5;124mjava.lang.System\u001b[39m\u001b[38;5;124m\"\u001b[39m)\u001b[38;5;241m.\u001b[39mgetProperty(\u001b[38;5;124m\"\u001b[39m\u001b[38;5;124mjava.version\u001b[39m\u001b[38;5;124m\"\u001b[39m)\n",
      "File \u001b[0;32m~/Coding/data-librarian/2023-2024_Data_Librarian_Thomas_Schmidt/Modul_2/pyterrier-tut/venv/lib/python3.8/site-packages/jnius/__init__.py:45\u001b[0m\n\u001b[1;32m     43\u001b[0m \u001b[38;5;28;01melse\u001b[39;00m:\n\u001b[1;32m     44\u001b[0m     \u001b[38;5;28;01mfrom\u001b[39;00m \u001b[38;5;21;01m.\u001b[39;00m\u001b[38;5;21;01mjnius\u001b[39;00m \u001b[38;5;28;01mimport\u001b[39;00m \u001b[38;5;241m*\u001b[39m  \u001b[38;5;66;03m# noqa\u001b[39;00m\n\u001b[0;32m---> 45\u001b[0m     \u001b[38;5;28;01mfrom\u001b[39;00m \u001b[38;5;21;01m.\u001b[39;00m\u001b[38;5;21;01mreflect\u001b[39;00m \u001b[38;5;28;01mimport\u001b[39;00m \u001b[38;5;241m*\u001b[39m  \u001b[38;5;66;03m# noqa\u001b[39;00m\n\u001b[1;32m     47\u001b[0m \u001b[38;5;66;03m# XXX monkey patch methods that cannot be in cython.\u001b[39;00m\n\u001b[1;32m     48\u001b[0m \u001b[38;5;66;03m# Cython doesn't allow to set new attribute on methods it compiled\u001b[39;00m\n\u001b[1;32m     50\u001b[0m HASHCODE_MAX \u001b[38;5;241m=\u001b[39m \u001b[38;5;241m2\u001b[39m \u001b[38;5;241m*\u001b[39m\u001b[38;5;241m*\u001b[39m \u001b[38;5;241m31\u001b[39m \u001b[38;5;241m-\u001b[39m \u001b[38;5;241m1\u001b[39m\n",
      "File \u001b[0;32m~/Coding/data-librarian/2023-2024_Data_Librarian_Thomas_Schmidt/Modul_2/pyterrier-tut/venv/lib/python3.8/site-packages/jnius/reflect.py:19\u001b[0m\n\u001b[1;32m     14\u001b[0m __all__ \u001b[38;5;241m=\u001b[39m (\u001b[38;5;124m'\u001b[39m\u001b[38;5;124mautoclass\u001b[39m\u001b[38;5;124m'\u001b[39m, \u001b[38;5;124m'\u001b[39m\u001b[38;5;124mensureclass\u001b[39m\u001b[38;5;124m'\u001b[39m, \u001b[38;5;124m'\u001b[39m\u001b[38;5;124mprotocol_map\u001b[39m\u001b[38;5;124m'\u001b[39m)\n\u001b[1;32m     16\u001b[0m log \u001b[38;5;241m=\u001b[39m logging\u001b[38;5;241m.\u001b[39mgetLogger(\u001b[38;5;124m'\u001b[39m\u001b[38;5;124mkivy\u001b[39m\u001b[38;5;124m'\u001b[39m)\u001b[38;5;241m.\u001b[39mgetChild(\u001b[38;5;18m__name__\u001b[39m)\n\u001b[0;32m---> 19\u001b[0m \u001b[38;5;28;01mclass\u001b[39;00m \u001b[38;5;21;01mClass\u001b[39;00m(JavaClass, metaclass\u001b[38;5;241m=\u001b[39mMetaJavaClass):\n\u001b[1;32m     20\u001b[0m     __javaclass__ \u001b[38;5;241m=\u001b[39m \u001b[38;5;124m'\u001b[39m\u001b[38;5;124mjava/lang/Class\u001b[39m\u001b[38;5;124m'\u001b[39m\n\u001b[1;32m     22\u001b[0m     desiredAssertionStatus \u001b[38;5;241m=\u001b[39m JavaMethod(\u001b[38;5;124m'\u001b[39m\u001b[38;5;124m()Z\u001b[39m\u001b[38;5;124m'\u001b[39m)\n",
      "File \u001b[0;32mjnius/jnius_export_class.pxi:117\u001b[0m, in \u001b[0;36mjnius.MetaJavaClass.__new__\u001b[0;34m()\u001b[0m\n",
      "File \u001b[0;32mjnius/jnius_export_class.pxi:177\u001b[0m, in \u001b[0;36mjnius.MetaJavaClass.resolve_class\u001b[0;34m()\u001b[0m\n",
      "File \u001b[0;32mjnius/jnius_env.pxi:11\u001b[0m, in \u001b[0;36mjnius.get_jnienv\u001b[0;34m()\u001b[0m\n",
      "File \u001b[0;32mjnius/jnius_jvm_dlopen.pxi:95\u001b[0m, in \u001b[0;36mjnius.get_platform_jnienv\u001b[0;34m()\u001b[0m\n",
      "File \u001b[0;32mjnius/jnius_jvm_dlopen.pxi:55\u001b[0m, in \u001b[0;36mjnius.create_jnienv\u001b[0;34m()\u001b[0m\n",
      "File \u001b[0;32m~/Coding/data-librarian/2023-2024_Data_Librarian_Thomas_Schmidt/Modul_2/pyterrier-tut/venv/lib/python3.8/site-packages/jnius/env.py:173\u001b[0m, in \u001b[0;36mJavaLocation.get_jnius_lib_location\u001b[0;34m(self)\u001b[0m\n\u001b[1;32m    170\u001b[0m             log\u001b[38;5;241m.\u001b[39mdebug(\u001b[38;5;124m\"\u001b[39m\u001b[38;5;124mfound libjvm.so at \u001b[39m\u001b[38;5;132;01m%s\u001b[39;00m\u001b[38;5;124m\"\u001b[39m, full_lib_location)\n\u001b[1;32m    171\u001b[0m             \u001b[38;5;28;01mreturn\u001b[39;00m full_lib_location\n\u001b[0;32m--> 173\u001b[0m     \u001b[38;5;28;01mraise\u001b[39;00m \u001b[38;5;167;01mRuntimeError\u001b[39;00m(\n\u001b[1;32m    174\u001b[0m \u001b[38;5;250m    \u001b[39m\u001b[38;5;124;03m\"\"\"\u001b[39;00m\n\u001b[1;32m    175\u001b[0m \u001b[38;5;124;03m    Unable to find libjvm.so, (tried %s)\u001b[39;00m\n\u001b[1;32m    176\u001b[0m \u001b[38;5;124;03m    you can use the JVM_PATH env variable with the absolute path\u001b[39;00m\n\u001b[1;32m    177\u001b[0m \u001b[38;5;124;03m    to libjvm.so to override this lookup, if you know\u001b[39;00m\n\u001b[1;32m    178\u001b[0m \u001b[38;5;124;03m    where pyjnius should look for it.\u001b[39;00m\n\u001b[1;32m    179\u001b[0m \n\u001b[1;32m    180\u001b[0m \u001b[38;5;124;03m    e.g:\u001b[39;00m\n\u001b[1;32m    181\u001b[0m \u001b[38;5;124;03m        export JAVA_HOME=/usr/lib/jvm/java-8-oracle/\u001b[39;00m\n\u001b[1;32m    182\u001b[0m \u001b[38;5;124;03m        export JVM_PATH=/usr/lib/jvm/java-8-oracle/jre/lib/amd64/server/libjvm.so\u001b[39;00m\n\u001b[1;32m    183\u001b[0m \u001b[38;5;124;03m        # run your program\u001b[39;00m\n\u001b[1;32m    184\u001b[0m \u001b[38;5;124;03m    \"\"\"\u001b[39;00m\n\u001b[1;32m    185\u001b[0m     \u001b[38;5;241m%\u001b[39m [join(\u001b[38;5;28mself\u001b[39m\u001b[38;5;241m.\u001b[39mhome, loc) \u001b[38;5;28;01mfor\u001b[39;00m loc \u001b[38;5;129;01min\u001b[39;00m lib_locations]\n\u001b[1;32m    186\u001b[0m )\n",
      "\u001b[0;31mRuntimeError\u001b[0m: \n        Unable to find libjvm.so, (tried ['/opt/homebrew/opt/openjdk/jre/lib/jli/libjli.dylib', '/opt/homebrew/opt/openjdk/lib/jli/libjli.dylib', '/opt/homebrew/opt/openjdk/lib/libjli.dylib'])\n        you can use the JVM_PATH env variable with the absolute path\n        to libjvm.so to override this lookup, if you know\n        where pyjnius should look for it.\n\n        e.g:\n            export JAVA_HOME=/usr/lib/jvm/java-8-oracle/\n            export JVM_PATH=/usr/lib/jvm/java-8-oracle/jre/lib/amd64/server/libjvm.so\n            # run your program\n        "
     ]
    }
   ],
   "source": [
    "#initialise pyterrier\n",
    "if not pt.started():\n",
    "    pt.init()"
   ]
  },
  {
   "cell_type": "code",
   "execution_count": null,
   "metadata": {},
   "outputs": [],
   "source": [
    "#pyterrier exspects a docno field\n",
    "df_ai_filtered['docno'] = df_ai_filtered['id']\n",
    "df_ai_filtered['text'] = df_ai_filtered['label']"
   ]
  },
  {
   "cell_type": "code",
   "execution_count": null,
   "metadata": {},
   "outputs": [],
   "source": [
    "#excursus indexing"
   ]
  },
  {
   "cell_type": "code",
   "execution_count": null,
   "metadata": {},
   "outputs": [],
   "source": [
    "#now we start to index our data\n",
    "#more details at https://pyterrier.readthedocs.io/en/latest/terrier-indexing.html\n",
    "\n",
    "index_folder = \"./ai_index\"\n",
    "\n",
    "indexer = pt.DFIndexer(index_folder, overwrite=True)\n",
    "index_ref = indexer.index(df_ai_filtered['text'], df_ai_filtered['docno'])\n",
    "\n",
    "print(f\"path to our index: {index_ref.toString()}\")"
   ]
  },
  {
   "cell_type": "code",
   "execution_count": null,
   "metadata": {},
   "outputs": [],
   "source": [
    "#load our index\n",
    "index = pt.IndexFactory.of(index_ref)"
   ]
  },
  {
   "cell_type": "code",
   "execution_count": null,
   "metadata": {},
   "outputs": [],
   "source": [
    "print(index.getCollectionStatistics().toString())"
   ]
  },
  {
   "cell_type": "code",
   "execution_count": null,
   "metadata": {},
   "outputs": [],
   "source": [
    "#term -> term_id Nt Tf\n",
    "#Nt: In how many documents does the term occur\n",
    "#TF: How often does the term occur in total\n",
    "\n",
    "for kv in index.getLexicon():\n",
    "    print(f\"{kv.getKey()} -> {kv.getValue().toString()}\")"
   ]
  },
  {
   "cell_type": "code",
   "execution_count": null,
   "metadata": {},
   "outputs": [],
   "source": [
    "term = \"game\"\n",
    "index.getLexicon()[term].toString()"
   ]
  },
  {
   "cell_type": "code",
   "execution_count": null,
   "metadata": {},
   "outputs": [],
   "source": [
    "#how often do the terms occur\n",
    "term_freq_dict = {}\n",
    "\n",
    "for kv in index.getLexicon():\n",
    "    term_freq_dict[kv.getKey()] = kv.getValue().frequency"
   ]
  },
  {
   "cell_type": "code",
   "execution_count": null,
   "metadata": {},
   "outputs": [],
   "source": [
    "#sort all terms from the index in descending order \n",
    "term_freq_dict_sorted = sorted(term_freq_dict.items(), key=lambda x: x[1], reverse=True)"
   ]
  },
  {
   "cell_type": "code",
   "execution_count": null,
   "metadata": {},
   "outputs": [],
   "source": [
    "#show the 30 nost popular entries\n",
    "top_k = 30\n",
    "term_freq_dict_sorted[:top_k]"
   ]
  },
  {
   "cell_type": "code",
   "execution_count": null,
   "metadata": {},
   "outputs": [],
   "source": [
    "#define our search engine\n",
    "search_engine = pt.BatchRetrieve(index, wmodel=\"Tf\")"
   ]
  },
  {
   "cell_type": "code",
   "execution_count": null,
   "metadata": {},
   "outputs": [],
   "source": [
    "search_engine.search(\"system\")"
   ]
  },
  {
   "cell_type": "markdown",
   "metadata": {},
   "source": [
    "So the `search()` method returns a dataframe with columns:\n",
    " - `qid`: this is by default \"1\", since it's our first and only query\n",
    " - `docid`: Terrier' internal integer for each document\n",
    " - `docno`: the external (string) unique identifier for each document\n",
    " - `score`: since we use the `Tf` weighting model, this score corresponds the total frequency of the query (terms) in each document\n",
    " - `rank`: A handy attribute showing the descending order by score\n",
    " - `query`: the input query\n",
    "\n",
    "As expected, the `Tf` weighting model used here only counts the frequencies of the query terms in each document, i.e.:\n",
    "$$\n",
    "score(d,q) = \\sum_{t \\in q} tf_{t,d}\n",
    "$$"
   ]
  },
  {
   "cell_type": "code",
   "execution_count": null,
   "metadata": {},
   "outputs": [],
   "source": [
    "search_engine.search(\"intelligent education\")"
   ]
  },
  {
   "cell_type": "code",
   "execution_count": null,
   "metadata": {},
   "outputs": [],
   "source": [
    "#what do we need for the inverse document frequency?"
   ]
  },
  {
   "cell_type": "code",
   "execution_count": null,
   "metadata": {},
   "outputs": [],
   "source": [
    "from nltk.stem import PorterStemmer\n",
    "stemmer = PorterStemmer()"
   ]
  },
  {
   "cell_type": "code",
   "execution_count": null,
   "metadata": {},
   "outputs": [],
   "source": [
    "#stem the term its base form\n",
    "stem = stemmer.stem(\"learning\")\n",
    "stem"
   ]
  },
  {
   "cell_type": "code",
   "execution_count": null,
   "metadata": {},
   "outputs": [],
   "source": [
    "#in how many documents does the stem 'learn' occur?\n",
    "lexicon = index.getLexicon()\n",
    "lexicon[stem].getDocumentFrequency()"
   ]
  },
  {
   "cell_type": "code",
   "execution_count": null,
   "metadata": {},
   "outputs": [],
   "source": [
    "#how many documents occur in our index?\n",
    "index.getCollectionStatistics().numberOfDocuments"
   ]
  },
  {
   "cell_type": "code",
   "execution_count": null,
   "metadata": {},
   "outputs": [],
   "source": [
    "def get_idf_for_term(term, index):\n",
    "  lex = index.getLexicon()\n",
    "  stemmed_term = stemmer.stem(term)\n",
    "\n",
    "  if not stemmed_term in lex:\n",
    "    return \n",
    "    \n",
    "  lex_entry = lex[stemmed_term]\n",
    "\n",
    "  df_term = lex_entry.getDocumentFrequency()\n",
    "  N = index.getCollectionStatistics().numberOfDocuments\n",
    "  \n",
    "  #inverse document frequency\n",
    "  idf = N/df_term\n",
    "\n",
    "  #apply logarithm(base 10) to idf\n",
    "  log_idf = np.emath.logn(10, idf)\n",
    "\n",
    "  return log_idf"
   ]
  },
  {
   "cell_type": "code",
   "execution_count": null,
   "metadata": {},
   "outputs": [],
   "source": [
    "get_idf_for_term(\"learning\", index)"
   ]
  },
  {
   "cell_type": "code",
   "execution_count": null,
   "metadata": {},
   "outputs": [],
   "source": [
    "#define your own tf_idf method here:\n",
    "\n",
    "def calc_tf_idf(query, docno, index):\n",
    "    #remember that tfidf is the product of two components\n",
    "    #hint: the tf model search result contains tf frequencies\n",
    "    return 0"
   ]
  },
  {
   "cell_type": "code",
   "execution_count": null,
   "metadata": {},
   "outputs": [],
   "source": [
    "query = \"intelligent education\"\n",
    "docno = \"https://www.bibsonomy.org/bibtex/201f2eb94f27fe662c37249be37619d8b/dblp\"\n",
    "\n",
    "print(f\"The tf-idf for query: {query} and document: {docno} is {calc_tf_idf(query, docno, index)}\")"
   ]
  },
  {
   "cell_type": "code",
   "execution_count": null,
   "metadata": {},
   "outputs": [],
   "source": [
    "search_engine_tfidf = pt.BatchRetrieve(index, wmodel=\"TF_IDF\")"
   ]
  },
  {
   "cell_type": "code",
   "execution_count": null,
   "metadata": {},
   "outputs": [],
   "source": [
    "search_engine_tfidf.search(\"intelligent education\")"
   ]
  },
  {
   "cell_type": "code",
   "execution_count": null,
   "metadata": {},
   "outputs": [],
   "source": [
    "#Now we want to build an index with multiple fields"
   ]
  },
  {
   "cell_type": "code",
   "execution_count": null,
   "metadata": {},
   "outputs": [],
   "source": [
    "df_ai_filtered.columns"
   ]
  },
  {
   "cell_type": "code",
   "execution_count": null,
   "metadata": {},
   "outputs": [],
   "source": [
    "#transfrom dataframe into list of dictionaries\n",
    "ai_dict = df_ai_filtered.to_dict(orient='records')"
   ]
  },
  {
   "cell_type": "code",
   "execution_count": null,
   "metadata": {},
   "outputs": [],
   "source": [
    "ai_dict"
   ]
  },
  {
   "cell_type": "code",
   "execution_count": null,
   "metadata": {},
   "outputs": [],
   "source": [
    "index_folder_mult = \"./ai_index_mult\"\n",
    "\n",
    "fields=['docno', 'text', 'tags', 'description']\n",
    "\n",
    "indexer_mult = pt.IterDictIndexer(index_folder_mult, meta={'docno': 200, 'text': 4096}, overwrite=True)\n",
    "index_ref_mult = indexer_mult.index(ai_dict, fields=fields)\n",
    "\n",
    "print(f\"path to our index: {index_ref_mult.toString()}\")"
   ]
  },
  {
   "cell_type": "code",
   "execution_count": null,
   "metadata": {},
   "outputs": [],
   "source": [
    "index_mult = pt.IndexFactory.of(index_ref_mult)"
   ]
  },
  {
   "cell_type": "code",
   "execution_count": null,
   "metadata": {},
   "outputs": [],
   "source": [
    "print(index_mult.getCollectionStatistics().toString())"
   ]
  },
  {
   "cell_type": "code",
   "execution_count": null,
   "metadata": {},
   "outputs": [],
   "source": [
    "search_engine_mult = pt.BatchRetrieve(index_mult, wmodel=\"TF_IDF\")"
   ]
  },
  {
   "cell_type": "code",
   "execution_count": null,
   "metadata": {},
   "outputs": [],
   "source": [
    "res = search_engine_mult.search(\"intelligence\")\n",
    "res"
   ]
  },
  {
   "cell_type": "code",
   "execution_count": null,
   "metadata": {},
   "outputs": [],
   "source": [
    "#save our data\n",
    "pickle.dump(df_ai_filtered, open(\"workspace/ai_publications.pkl\", \"wb\"))"
   ]
  },
  {
   "cell_type": "code",
   "execution_count": null,
   "metadata": {},
   "outputs": [],
   "source": [
    "%pip install streamlit"
   ]
  },
  {
   "cell_type": "code",
   "execution_count": null,
   "metadata": {},
   "outputs": [],
   "source": []
  }
 ],
 "metadata": {
  "kernelspec": {
   "display_name": "Python 3",
   "language": "python",
   "name": "python3"
  },
  "language_info": {
   "codemirror_mode": {
    "name": "ipython",
    "version": 3
   },
   "file_extension": ".py",
   "mimetype": "text/x-python",
   "name": "python",
   "nbconvert_exporter": "python",
   "pygments_lexer": "ipython3",
   "version": "3.8.18"
  }
 },
 "nbformat": 4,
 "nbformat_minor": 2
}
