{
 "cells": [
  {
   "cell_type": "markdown",
   "metadata": {},
   "source": [
    "# 2. **SFPL Aufgabe**"
   ]
  },
  {
   "cell_type": "code",
   "execution_count": 20,
   "metadata": {},
   "outputs": [],
   "source": [
    "import pandas as pd"
   ]
  },
  {
   "cell_type": "code",
   "execution_count": 21,
   "metadata": {},
   "outputs": [
    {
     "name": "stderr",
     "output_type": "stream",
     "text": [
      "/var/folders/23/1xsw6wnj7zx686gppgdjd7900000gn/T/ipykernel_28445/3176886277.py:1: DtypeWarning: Columns (13) have mixed types. Specify dtype option on import or set low_memory=False.\n",
      "  df = pd.read_csv('./data/Library_Usage.csv')\n"
     ]
    },
    {
     "data": {
      "text/html": [
       "<div>\n",
       "<style scoped>\n",
       "    .dataframe tbody tr th:only-of-type {\n",
       "        vertical-align: middle;\n",
       "    }\n",
       "\n",
       "    .dataframe tbody tr th {\n",
       "        vertical-align: top;\n",
       "    }\n",
       "\n",
       "    .dataframe thead th {\n",
       "        text-align: right;\n",
       "    }\n",
       "</style>\n",
       "<table border=\"1\" class=\"dataframe\">\n",
       "  <thead>\n",
       "    <tr style=\"text-align: right;\">\n",
       "      <th></th>\n",
       "      <th>Patron Type Code</th>\n",
       "      <th>Patron Type Definition</th>\n",
       "      <th>Total Checkouts</th>\n",
       "      <th>Total Renewals</th>\n",
       "      <th>Age Range</th>\n",
       "      <th>Home Library Code</th>\n",
       "      <th>Home Library Definition</th>\n",
       "      <th>Circulation Active Month</th>\n",
       "      <th>Circulation Active Year</th>\n",
       "      <th>Notice Preference Code</th>\n",
       "      <th>Notice Preference Definition</th>\n",
       "      <th>Provided Email Address</th>\n",
       "      <th>Year Patron Registered</th>\n",
       "      <th>Within San Francisco County</th>\n",
       "    </tr>\n",
       "  </thead>\n",
       "  <tbody>\n",
       "    <tr>\n",
       "      <th>0</th>\n",
       "      <td>5</td>\n",
       "      <td>Staff</td>\n",
       "      <td>53</td>\n",
       "      <td>15</td>\n",
       "      <td>NaN</td>\n",
       "      <td>b2</td>\n",
       "      <td>Bayview</td>\n",
       "      <td>Mar</td>\n",
       "      <td>2023.0</td>\n",
       "      <td>z</td>\n",
       "      <td>Email</td>\n",
       "      <td>True</td>\n",
       "      <td>2003</td>\n",
       "      <td>False</td>\n",
       "    </tr>\n",
       "    <tr>\n",
       "      <th>1</th>\n",
       "      <td>5</td>\n",
       "      <td>Staff</td>\n",
       "      <td>480</td>\n",
       "      <td>378</td>\n",
       "      <td>NaN</td>\n",
       "      <td>e9</td>\n",
       "      <td>Excelsior</td>\n",
       "      <td>Jun</td>\n",
       "      <td>2023.0</td>\n",
       "      <td>z</td>\n",
       "      <td>Email</td>\n",
       "      <td>True</td>\n",
       "      <td>2003</td>\n",
       "      <td>False</td>\n",
       "    </tr>\n",
       "    <tr>\n",
       "      <th>2</th>\n",
       "      <td>5</td>\n",
       "      <td>Staff</td>\n",
       "      <td>70</td>\n",
       "      <td>33</td>\n",
       "      <td>45 to 54 years</td>\n",
       "      <td>n4</td>\n",
       "      <td>Noe Valley</td>\n",
       "      <td>Jan</td>\n",
       "      <td>2023.0</td>\n",
       "      <td>z</td>\n",
       "      <td>Email</td>\n",
       "      <td>True</td>\n",
       "      <td>2011</td>\n",
       "      <td>False</td>\n",
       "    </tr>\n",
       "    <tr>\n",
       "      <th>3</th>\n",
       "      <td>5</td>\n",
       "      <td>Staff</td>\n",
       "      <td>3934</td>\n",
       "      <td>2140</td>\n",
       "      <td>NaN</td>\n",
       "      <td>o2</td>\n",
       "      <td>Ocean View</td>\n",
       "      <td>Jul</td>\n",
       "      <td>2023.0</td>\n",
       "      <td>z</td>\n",
       "      <td>Email</td>\n",
       "      <td>True</td>\n",
       "      <td>2003</td>\n",
       "      <td>False</td>\n",
       "    </tr>\n",
       "    <tr>\n",
       "      <th>4</th>\n",
       "      <td>5</td>\n",
       "      <td>Staff</td>\n",
       "      <td>1118</td>\n",
       "      <td>1035</td>\n",
       "      <td>NaN</td>\n",
       "      <td>o7</td>\n",
       "      <td>Ortega</td>\n",
       "      <td>Jul</td>\n",
       "      <td>2023.0</td>\n",
       "      <td>z</td>\n",
       "      <td>Email</td>\n",
       "      <td>True</td>\n",
       "      <td>2003</td>\n",
       "      <td>False</td>\n",
       "    </tr>\n",
       "  </tbody>\n",
       "</table>\n",
       "</div>"
      ],
      "text/plain": [
       "   Patron Type Code Patron Type Definition  Total Checkouts  Total Renewals  \\\n",
       "0                 5                  Staff               53              15   \n",
       "1                 5                  Staff              480             378   \n",
       "2                 5                  Staff               70              33   \n",
       "3                 5                  Staff             3934            2140   \n",
       "4                 5                  Staff             1118            1035   \n",
       "\n",
       "        Age Range Home Library Code Home Library Definition  \\\n",
       "0             NaN                b2                 Bayview   \n",
       "1             NaN                e9               Excelsior   \n",
       "2  45 to 54 years                n4              Noe Valley   \n",
       "3             NaN                o2              Ocean View   \n",
       "4             NaN                o7                  Ortega   \n",
       "\n",
       "  Circulation Active Month  Circulation Active Year Notice Preference Code  \\\n",
       "0                      Mar                   2023.0                      z   \n",
       "1                      Jun                   2023.0                      z   \n",
       "2                      Jan                   2023.0                      z   \n",
       "3                      Jul                   2023.0                      z   \n",
       "4                      Jul                   2023.0                      z   \n",
       "\n",
       "  Notice Preference Definition  Provided Email Address  \\\n",
       "0                        Email                    True   \n",
       "1                        Email                    True   \n",
       "2                        Email                    True   \n",
       "3                        Email                    True   \n",
       "4                        Email                    True   \n",
       "\n",
       "   Year Patron Registered Within San Francisco County  \n",
       "0                    2003                       False  \n",
       "1                    2003                       False  \n",
       "2                    2011                       False  \n",
       "3                    2003                       False  \n",
       "4                    2003                       False  "
      ]
     },
     "execution_count": 21,
     "metadata": {},
     "output_type": "execute_result"
    }
   ],
   "source": [
    "df = pd.read_csv('./data/Library_Usage.csv')\n",
    "df.head()"
   ]
  },
  {
   "cell_type": "code",
   "execution_count": 22,
   "metadata": {},
   "outputs": [],
   "source": [
    "# df = df.rename(columns=lambda x: x.replace(' ', '_'))\n",
    "# df"
   ]
  },
  {
   "cell_type": "code",
   "execution_count": 23,
   "metadata": {},
   "outputs": [
    {
     "data": {
      "text/plain": [
       "436290"
      ]
     },
     "execution_count": 23,
     "metadata": {},
     "output_type": "execute_result"
    }
   ],
   "source": [
    "len(df)"
   ]
  },
  {
   "cell_type": "markdown",
   "metadata": {},
   "source": [
    "## Wie viele Merkmale besitzt der Datensatz?"
   ]
  },
  {
   "cell_type": "code",
   "execution_count": 8,
   "metadata": {},
   "outputs": [
    {
     "data": {
      "text/plain": [
       "14"
      ]
     },
     "execution_count": 8,
     "metadata": {},
     "output_type": "execute_result"
    }
   ],
   "source": [
    "len(df.columns)"
   ]
  },
  {
   "cell_type": "markdown",
   "metadata": {},
   "source": [
    "## Wie groß ist die Stichprobengröße des Datensatzes?\n",
    "\n",
    "*\"each row is a patron record\"*"
   ]
  },
  {
   "cell_type": "code",
   "execution_count": 25,
   "metadata": {},
   "outputs": [
    {
     "data": {
      "text/plain": [
       "436290"
      ]
     },
     "execution_count": 25,
     "metadata": {},
     "output_type": "execute_result"
    }
   ],
   "source": [
    "len(df)"
   ]
  },
  {
   "cell_type": "markdown",
   "metadata": {},
   "source": [
    "## Wer oder was sind die Merkmalsträger?\n",
    "→ **active patrons**:\n",
    "* a) patrons with unexpired library cards\n",
    "* b) patrons who had circulation activity within the last three years.\n",
    "\n",
    "> An den statistischen Einheiten, die in eine Stichprobe gelangt sind, werden interessierende Größen beobachtet, die sogenannten Merkmale oder auch Variablen. Man spricht daher häufig auch von den statistischen Einheiten als Merkmalsträgern."
   ]
  },
  {
   "cell_type": "markdown",
   "metadata": {},
   "source": [
    "## Von wann bis wann wurden die Daten erhoben?\n",
    "\n",
    "* Date Created: December 2, 2016\n",
    "* Data Last Updated: August 7, 2023"
   ]
  },
  {
   "cell_type": "markdown",
   "metadata": {},
   "source": [
    "## Wie lässt sich die Grundgesamtheit beschreiben? Handelt es sich um eine Vollerhebung?\n",
    "\n",
    "Nein, da nur Bibliotheksnutzer*innen verzeichnet sind, die 1. in den letzten 3 Jahren eine circulation activity hatten und 2. einen aktiven Bibliotheksausweis besitzen müssen"
   ]
  },
  {
   "cell_type": "markdown",
   "metadata": {},
   "source": [
    "## Welche Merkmale sind stetig? Welche diskret?\n",
    "\n",
    "* **diskrete Merkmale**:\n",
    "    - Patron Type Code\n",
    "    - Patron Type Definition\n",
    "    - Age Range `?`\n",
    "    - Home Library Code\n",
    "    - Home Library Definition\n",
    "    - Circulation Active Month\n",
    "    - Circulation Active Year\n",
    "    - Notice Preference Code\n",
    "    - Notice Preference Definition\n",
    "    - Provided Email Address\n",
    "    - Year Patron Registered\n",
    "    - Within San Francisco County\n",
    "\n",
    "* **stetige Merkmale**:\n",
    "    - Total Checkouts\n",
    "    - Total Renewals"
   ]
  },
  {
   "cell_type": "code",
   "execution_count": 33,
   "metadata": {},
   "outputs": [
    {
     "data": {
      "text/html": [
       "<div>\n",
       "<style scoped>\n",
       "    .dataframe tbody tr th:only-of-type {\n",
       "        vertical-align: middle;\n",
       "    }\n",
       "\n",
       "    .dataframe tbody tr th {\n",
       "        vertical-align: top;\n",
       "    }\n",
       "\n",
       "    .dataframe thead th {\n",
       "        text-align: right;\n",
       "    }\n",
       "</style>\n",
       "<table border=\"1\" class=\"dataframe\">\n",
       "  <thead>\n",
       "    <tr style=\"text-align: right;\">\n",
       "      <th></th>\n",
       "      <th>Patron Type Code</th>\n",
       "      <th>Patron Type Definition</th>\n",
       "      <th>Total Checkouts</th>\n",
       "      <th>Total Renewals</th>\n",
       "      <th>Age Range</th>\n",
       "      <th>Home Library Code</th>\n",
       "      <th>Home Library Definition</th>\n",
       "      <th>Circulation Active Month</th>\n",
       "      <th>Circulation Active Year</th>\n",
       "      <th>Notice Preference Code</th>\n",
       "      <th>Notice Preference Definition</th>\n",
       "      <th>Provided Email Address</th>\n",
       "      <th>Year Patron Registered</th>\n",
       "      <th>Within San Francisco County</th>\n",
       "    </tr>\n",
       "  </thead>\n",
       "  <tbody>\n",
       "    <tr>\n",
       "      <th>0</th>\n",
       "      <td>5</td>\n",
       "      <td>Staff</td>\n",
       "      <td>53</td>\n",
       "      <td>15</td>\n",
       "      <td>NaN</td>\n",
       "      <td>b2</td>\n",
       "      <td>Bayview</td>\n",
       "      <td>Mar</td>\n",
       "      <td>2023.0</td>\n",
       "      <td>z</td>\n",
       "      <td>Email</td>\n",
       "      <td>True</td>\n",
       "      <td>2003</td>\n",
       "      <td>False</td>\n",
       "    </tr>\n",
       "    <tr>\n",
       "      <th>1</th>\n",
       "      <td>5</td>\n",
       "      <td>Staff</td>\n",
       "      <td>480</td>\n",
       "      <td>378</td>\n",
       "      <td>NaN</td>\n",
       "      <td>e9</td>\n",
       "      <td>Excelsior</td>\n",
       "      <td>Jun</td>\n",
       "      <td>2023.0</td>\n",
       "      <td>z</td>\n",
       "      <td>Email</td>\n",
       "      <td>True</td>\n",
       "      <td>2003</td>\n",
       "      <td>False</td>\n",
       "    </tr>\n",
       "  </tbody>\n",
       "</table>\n",
       "</div>"
      ],
      "text/plain": [
       "   Patron Type Code Patron Type Definition  Total Checkouts  Total Renewals  \\\n",
       "0                 5                  Staff               53              15   \n",
       "1                 5                  Staff              480             378   \n",
       "\n",
       "  Age Range Home Library Code Home Library Definition  \\\n",
       "0       NaN                b2                 Bayview   \n",
       "1       NaN                e9               Excelsior   \n",
       "\n",
       "  Circulation Active Month  Circulation Active Year Notice Preference Code  \\\n",
       "0                      Mar                   2023.0                      z   \n",
       "1                      Jun                   2023.0                      z   \n",
       "\n",
       "  Notice Preference Definition  Provided Email Address  \\\n",
       "0                        Email                    True   \n",
       "1                        Email                    True   \n",
       "\n",
       "   Year Patron Registered Within San Francisco County  \n",
       "0                    2003                       False  \n",
       "1                    2003                       False  "
      ]
     },
     "execution_count": 33,
     "metadata": {},
     "output_type": "execute_result"
    }
   ],
   "source": [
    "df.head(2)"
   ]
  },
  {
   "cell_type": "code",
   "execution_count": 36,
   "metadata": {},
   "outputs": [
    {
     "data": {
      "text/plain": [
       "array([nan, '45 to 54 years', '55 to 59 years', '60 to 64 years',\n",
       "       '25 to 34 years', '35 to 44 years', '20 to 24 years',\n",
       "       '75 years and over', '10 to 19 years', '0 to 9 years',\n",
       "       '65 to 74 years'], dtype=object)"
      ]
     },
     "execution_count": 36,
     "metadata": {},
     "output_type": "execute_result"
    }
   ],
   "source": [
    "df['Age Range'].unique()"
   ]
  },
  {
   "cell_type": "code",
   "execution_count": 37,
   "metadata": {},
   "outputs": [
    {
     "data": {
      "text/plain": [
       "array(['Bayview', 'Excelsior', 'Noe Valley', 'Ocean View', 'Ortega',\n",
       "       'West Portal', 'Main', 'Glen Park', 'Anza', 'Presidio', 'Portola',\n",
       "       'North Beach', 'Golden Gate Valley', 'Richmond', 'Park', 'Marina',\n",
       "       'Sunset', 'Potrero', 'Mission', 'Eureka Valley', 'Merced',\n",
       "       'Chinatown', 'Mission Bay', 'Western Addition', 'Bernal',\n",
       "       'Visitacion Valley', 'Parkside', 'Ingleside', 'Bookmobile', nan],\n",
       "      dtype=object)"
      ]
     },
     "execution_count": 37,
     "metadata": {},
     "output_type": "execute_result"
    }
   ],
   "source": [
    "df['Home Library Definition'].unique()"
   ]
  },
  {
   "cell_type": "code",
   "execution_count": 38,
   "metadata": {},
   "outputs": [
    {
     "data": {
      "text/plain": [
       "array(['z', nan], dtype=object)"
      ]
     },
     "execution_count": 38,
     "metadata": {},
     "output_type": "execute_result"
    }
   ],
   "source": [
    "df['Notice Preference Code'].unique()"
   ]
  },
  {
   "cell_type": "markdown",
   "metadata": {},
   "source": [
    "## Welchem Skalenniveau entsprechen die einzelnen Merkmale (Nominal-, Ordinal- oder Metrische Skala)?\n",
    "\n",
    "* **Nominalskala**:\n",
    "    - Patron Type Code\n",
    "    - Patron Type Definition\n",
    "    - Home Library Code\n",
    "    - Home Library Definition\n",
    "    - Notice Preference Code\n",
    "    - Notice Preference Definition\n",
    "    - Provided Email Address\n",
    "    - Within San Francisco County\n",
    "\n",
    "* **Ordinalskala**:\n",
    "    - Circulation Active Month\n",
    "    - Circulation Active Year\n",
    "    - Year Patron Registered\n",
    "\n",
    "* **Metrische Skala**:\n",
    "    - Age Range `?`\n",
    "    - Total Checkouts\n",
    "    - Total Renewals"
   ]
  },
  {
   "cell_type": "markdown",
   "metadata": {},
   "source": [
    "## Enthält der Datensatz fehlende Werte?"
   ]
  },
  {
   "cell_type": "code",
   "execution_count": 45,
   "metadata": {},
   "outputs": [
    {
     "data": {
      "text/plain": [
       "78452"
      ]
     },
     "execution_count": 45,
     "metadata": {},
     "output_type": "execute_result"
    }
   ],
   "source": [
    "# Get df without missing values in any of its rows\n",
    "df2 = df.dropna()\n",
    "\n",
    "# Calculate num of rows with missing values\n",
    "rows_na_values = len(df) - len(df2)\n",
    "rows_na_values"
   ]
  },
  {
   "cell_type": "markdown",
   "metadata": {},
   "source": [
    "## Handelt es sich um Querschnitts-, Längsschnitts- oder Paneldaten?\n",
    "\n",
    "→ **Längsschnittstudie**, da:\n",
    "> Zusammenfassend kann man also sagen, daß bei einer Querschnittstudie mehrere Objekte zu einem Zeitpunkt, bei einer Zeitreihe ein Objekt zu mehreren Zeitpunkten und bei einer Längsschnittstudie mehrere und zwar dieselben Objekte zu mehreren Zeitpunkten beobachtet werden."
   ]
  }
 ],
 "metadata": {
  "kernelspec": {
   "display_name": "venv-data-stats-ml",
   "language": "python",
   "name": "python3"
  },
  "language_info": {
   "codemirror_mode": {
    "name": "ipython",
    "version": 3
   },
   "file_extension": ".py",
   "mimetype": "text/x-python",
   "name": "python",
   "nbconvert_exporter": "python",
   "pygments_lexer": "ipython3",
   "version": "3.12.2"
  }
 },
 "nbformat": 4,
 "nbformat_minor": 2
}
