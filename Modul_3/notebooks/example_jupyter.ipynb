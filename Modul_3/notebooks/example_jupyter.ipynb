{
 "cells": [
  {
   "cell_type": "markdown",
   "metadata": {},
   "source": [
    "# Jupyter Notebook Beispiel\n",
    "\n",
    "- Das hier ist eine Text-Zelle geschrieben in [Markdown](https://github.com/adam-p/markdown-here/wiki/Markdown-Cheatsheet).\n",
    "- Mit einem Doppelklick in die Zelle, kannst Du den Text bearbeiten.\n",
    "- Mit einem Klick auf den `Run` Button oder mit der Tastenkombinaion `Strg`+`Enter` kannst Du Code in Zellen ausführen oder Markdown Text rendern."
   ]
  },
  {
   "cell_type": "code",
   "execution_count": 1,
   "metadata": {},
   "outputs": [
    {
     "data": {
      "image/svg+xml": [
       "<?xml version=\"1.0\" encoding=\"utf-8\" standalone=\"no\"?>\n",
       "<!DOCTYPE svg PUBLIC \"-//W3C//DTD SVG 1.1//EN\"\n",
       "  \"http://www.w3.org/Graphics/SVG/1.1/DTD/svg11.dtd\">\n",
       "<svg xmlns:xlink=\"http://www.w3.org/1999/xlink\" width=\"348.648437pt\" height=\"348.459844pt\" viewBox=\"0 0 348.648437 348.459844\" xmlns=\"http://www.w3.org/2000/svg\" version=\"1.1\">\n",
       " <metadata>\n",
       "  <rdf:RDF xmlns:dc=\"http://purl.org/dc/elements/1.1/\" xmlns:cc=\"http://creativecommons.org/ns#\" xmlns:rdf=\"http://www.w3.org/1999/02/22-rdf-syntax-ns#\">\n",
       "   <cc:Work>\n",
       "    <dc:type rdf:resource=\"http://purl.org/dc/dcmitype/StillImage\"/>\n",
       "    <dc:date>2024-02-20T16:19:40.852706</dc:date>\n",
       "    <dc:format>image/svg+xml</dc:format>\n",
       "    <dc:creator>\n",
       "     <cc:Agent>\n",
       "      <dc:title>Matplotlib v3.8.3, https://matplotlib.org/</dc:title>\n",
       "     </cc:Agent>\n",
       "    </dc:creator>\n",
       "   </cc:Work>\n",
       "  </rdf:RDF>\n",
       " </metadata>\n",
       " <defs>\n",
       "  <style type=\"text/css\">*{stroke-linejoin: round; stroke-linecap: butt}</style>\n",
       " </defs>\n",
       " <g id=\"figure_1\">\n",
       "  <g id=\"patch_1\">\n",
       "   <path d=\"M 0 348.459844 \n",
       "L 348.648437 348.459844 \n",
       "L 348.648437 0 \n",
       "L 0 0 \n",
       "z\n",
       "\" style=\"fill: #ffffff\"/>\n",
       "  </g>\n",
       "  <g id=\"axes_1\">\n",
       "   <g id=\"patch_2\">\n",
       "    <path d=\"M 43.908438 321.7 \n",
       "L 341.448437 321.7 \n",
       "L 341.448437 7.2 \n",
       "L 43.908438 7.2 \n",
       "z\n",
       "\" style=\"fill: #eaeaf2\"/>\n",
       "   </g>\n",
       "   <g id=\"matplotlib.axis_1\">\n",
       "    <g id=\"xtick_1\">\n",
       "     <g id=\"line2d_1\">\n",
       "      <path d=\"M 50.789771 321.7 \n",
       "L 50.789771 7.2 \n",
       "\" clip-path=\"url(#p602398cabe)\" style=\"fill: none; stroke: #ffffff; stroke-linecap: round\"/>\n",
       "     </g>\n",
       "     <g id=\"text_1\">\n",
       "      <!-- −2.5 -->\n",
       "      <g style=\"fill: #262626\" transform=\"translate(39.932427 339.073594) scale(0.11 -0.11)\">\n",
       "       <defs>\n",
       "        <path id=\"ArialMT-2212\" d=\"M 3381 1997 \n",
       "L 356 1997 \n",
       "L 356 2522 \n",
       "L 3381 2522 \n",
       "L 3381 1997 \n",
       "z\n",
       "\" transform=\"scale(0.015625)\"/>\n",
       "        <path id=\"ArialMT-32\" d=\"M 3222 541 \n",
       "L 3222 0 \n",
       "L 194 0 \n",
       "Q 188 203 259 391 \n",
       "Q 375 700 629 1000 \n",
       "Q 884 1300 1366 1694 \n",
       "Q 2113 2306 2375 2664 \n",
       "Q 2638 3022 2638 3341 \n",
       "Q 2638 3675 2398 3904 \n",
       "Q 2159 4134 1775 4134 \n",
       "Q 1369 4134 1125 3890 \n",
       "Q 881 3647 878 3216 \n",
       "L 300 3275 \n",
       "Q 359 3922 746 4261 \n",
       "Q 1134 4600 1788 4600 \n",
       "Q 2447 4600 2831 4234 \n",
       "Q 3216 3869 3216 3328 \n",
       "Q 3216 3053 3103 2787 \n",
       "Q 2991 2522 2730 2228 \n",
       "Q 2469 1934 1863 1422 \n",
       "Q 1356 997 1212 845 \n",
       "Q 1069 694 975 541 \n",
       "L 3222 541 \n",
       "z\n",
       "\" transform=\"scale(0.015625)\"/>\n",
       "        <path id=\"ArialMT-2e\" d=\"M 581 0 \n",
       "L 581 641 \n",
       "L 1222 641 \n",
       "L 1222 0 \n",
       "L 581 0 \n",
       "z\n",
       "\" transform=\"scale(0.015625)\"/>\n",
       "        <path id=\"ArialMT-35\" d=\"M 266 1200 \n",
       "L 856 1250 \n",
       "Q 922 819 1161 601 \n",
       "Q 1400 384 1738 384 \n",
       "Q 2144 384 2425 690 \n",
       "Q 2706 997 2706 1503 \n",
       "Q 2706 1984 2436 2262 \n",
       "Q 2166 2541 1728 2541 \n",
       "Q 1456 2541 1237 2417 \n",
       "Q 1019 2294 894 2097 \n",
       "L 366 2166 \n",
       "L 809 4519 \n",
       "L 3088 4519 \n",
       "L 3088 3981 \n",
       "L 1259 3981 \n",
       "L 1013 2750 \n",
       "Q 1425 3038 1878 3038 \n",
       "Q 2478 3038 2890 2622 \n",
       "Q 3303 2206 3303 1553 \n",
       "Q 3303 931 2941 478 \n",
       "Q 2500 -78 1738 -78 \n",
       "Q 1113 -78 717 272 \n",
       "Q 322 622 266 1200 \n",
       "z\n",
       "\" transform=\"scale(0.015625)\"/>\n",
       "       </defs>\n",
       "       <use xlink:href=\"#ArialMT-2212\"/>\n",
       "       <use xlink:href=\"#ArialMT-32\" x=\"58.398438\"/>\n",
       "       <use xlink:href=\"#ArialMT-2e\" x=\"114.013672\"/>\n",
       "       <use xlink:href=\"#ArialMT-35\" x=\"141.796875\"/>\n",
       "      </g>\n",
       "     </g>\n",
       "    </g>\n",
       "    <g id=\"xtick_2\">\n",
       "     <g id=\"line2d_2\">\n",
       "      <path d=\"M 84.251551 321.7 \n",
       "L 84.251551 7.2 \n",
       "\" clip-path=\"url(#p602398cabe)\" style=\"fill: none; stroke: #ffffff; stroke-linecap: round\"/>\n",
       "     </g>\n",
       "     <g id=\"text_2\">\n",
       "      <!-- −2.0 -->\n",
       "      <g style=\"fill: #262626\" transform=\"translate(73.394208 339.073594) scale(0.11 -0.11)\">\n",
       "       <defs>\n",
       "        <path id=\"ArialMT-30\" d=\"M 266 2259 \n",
       "Q 266 3072 433 3567 \n",
       "Q 600 4063 929 4331 \n",
       "Q 1259 4600 1759 4600 \n",
       "Q 2128 4600 2406 4451 \n",
       "Q 2684 4303 2865 4023 \n",
       "Q 3047 3744 3150 3342 \n",
       "Q 3253 2941 3253 2259 \n",
       "Q 3253 1453 3087 958 \n",
       "Q 2922 463 2592 192 \n",
       "Q 2263 -78 1759 -78 \n",
       "Q 1097 -78 719 397 \n",
       "Q 266 969 266 2259 \n",
       "z\n",
       "M 844 2259 \n",
       "Q 844 1131 1108 757 \n",
       "Q 1372 384 1759 384 \n",
       "Q 2147 384 2411 759 \n",
       "Q 2675 1134 2675 2259 \n",
       "Q 2675 3391 2411 3762 \n",
       "Q 2147 4134 1753 4134 \n",
       "Q 1366 4134 1134 3806 \n",
       "Q 844 3388 844 2259 \n",
       "z\n",
       "\" transform=\"scale(0.015625)\"/>\n",
       "       </defs>\n",
       "       <use xlink:href=\"#ArialMT-2212\"/>\n",
       "       <use xlink:href=\"#ArialMT-32\" x=\"58.398438\"/>\n",
       "       <use xlink:href=\"#ArialMT-2e\" x=\"114.013672\"/>\n",
       "       <use xlink:href=\"#ArialMT-30\" x=\"141.796875\"/>\n",
       "      </g>\n",
       "     </g>\n",
       "    </g>\n",
       "    <g id=\"xtick_3\">\n",
       "     <g id=\"line2d_3\">\n",
       "      <path d=\"M 117.713332 321.7 \n",
       "L 117.713332 7.2 \n",
       "\" clip-path=\"url(#p602398cabe)\" style=\"fill: none; stroke: #ffffff; stroke-linecap: round\"/>\n",
       "     </g>\n",
       "     <g id=\"text_3\">\n",
       "      <!-- −1.5 -->\n",
       "      <g style=\"fill: #262626\" transform=\"translate(106.855988 339.073594) scale(0.11 -0.11)\">\n",
       "       <defs>\n",
       "        <path id=\"ArialMT-31\" d=\"M 2384 0 \n",
       "L 1822 0 \n",
       "L 1822 3584 \n",
       "Q 1619 3391 1289 3197 \n",
       "Q 959 3003 697 2906 \n",
       "L 697 3450 \n",
       "Q 1169 3672 1522 3987 \n",
       "Q 1875 4303 2022 4600 \n",
       "L 2384 4600 \n",
       "L 2384 0 \n",
       "z\n",
       "\" transform=\"scale(0.015625)\"/>\n",
       "       </defs>\n",
       "       <use xlink:href=\"#ArialMT-2212\"/>\n",
       "       <use xlink:href=\"#ArialMT-31\" x=\"58.398438\"/>\n",
       "       <use xlink:href=\"#ArialMT-2e\" x=\"114.013672\"/>\n",
       "       <use xlink:href=\"#ArialMT-35\" x=\"141.796875\"/>\n",
       "      </g>\n",
       "     </g>\n",
       "    </g>\n",
       "    <g id=\"xtick_4\">\n",
       "     <g id=\"line2d_4\">\n",
       "      <path d=\"M 151.175113 321.7 \n",
       "L 151.175113 7.2 \n",
       "\" clip-path=\"url(#p602398cabe)\" style=\"fill: none; stroke: #ffffff; stroke-linecap: round\"/>\n",
       "     </g>\n",
       "     <g id=\"text_4\">\n",
       "      <!-- −1.0 -->\n",
       "      <g style=\"fill: #262626\" transform=\"translate(140.317769 339.073594) scale(0.11 -0.11)\">\n",
       "       <use xlink:href=\"#ArialMT-2212\"/>\n",
       "       <use xlink:href=\"#ArialMT-31\" x=\"58.398438\"/>\n",
       "       <use xlink:href=\"#ArialMT-2e\" x=\"114.013672\"/>\n",
       "       <use xlink:href=\"#ArialMT-30\" x=\"141.796875\"/>\n",
       "      </g>\n",
       "     </g>\n",
       "    </g>\n",
       "    <g id=\"xtick_5\">\n",
       "     <g id=\"line2d_5\">\n",
       "      <path d=\"M 184.636893 321.7 \n",
       "L 184.636893 7.2 \n",
       "\" clip-path=\"url(#p602398cabe)\" style=\"fill: none; stroke: #ffffff; stroke-linecap: round\"/>\n",
       "     </g>\n",
       "     <g id=\"text_5\">\n",
       "      <!-- −0.5 -->\n",
       "      <g style=\"fill: #262626\" transform=\"translate(173.77955 339.073594) scale(0.11 -0.11)\">\n",
       "       <use xlink:href=\"#ArialMT-2212\"/>\n",
       "       <use xlink:href=\"#ArialMT-30\" x=\"58.398438\"/>\n",
       "       <use xlink:href=\"#ArialMT-2e\" x=\"114.013672\"/>\n",
       "       <use xlink:href=\"#ArialMT-35\" x=\"141.796875\"/>\n",
       "      </g>\n",
       "     </g>\n",
       "    </g>\n",
       "    <g id=\"xtick_6\">\n",
       "     <g id=\"line2d_6\">\n",
       "      <path d=\"M 218.098674 321.7 \n",
       "L 218.098674 7.2 \n",
       "\" clip-path=\"url(#p602398cabe)\" style=\"fill: none; stroke: #ffffff; stroke-linecap: round\"/>\n",
       "     </g>\n",
       "     <g id=\"text_6\">\n",
       "      <!-- 0.0 -->\n",
       "      <g style=\"fill: #262626\" transform=\"translate(210.453674 339.073594) scale(0.11 -0.11)\">\n",
       "       <use xlink:href=\"#ArialMT-30\"/>\n",
       "       <use xlink:href=\"#ArialMT-2e\" x=\"55.615234\"/>\n",
       "       <use xlink:href=\"#ArialMT-30\" x=\"83.398438\"/>\n",
       "      </g>\n",
       "     </g>\n",
       "    </g>\n",
       "    <g id=\"xtick_7\">\n",
       "     <g id=\"line2d_7\">\n",
       "      <path d=\"M 251.560455 321.7 \n",
       "L 251.560455 7.2 \n",
       "\" clip-path=\"url(#p602398cabe)\" style=\"fill: none; stroke: #ffffff; stroke-linecap: round\"/>\n",
       "     </g>\n",
       "     <g id=\"text_7\">\n",
       "      <!-- 0.5 -->\n",
       "      <g style=\"fill: #262626\" transform=\"translate(243.915455 339.073594) scale(0.11 -0.11)\">\n",
       "       <use xlink:href=\"#ArialMT-30\"/>\n",
       "       <use xlink:href=\"#ArialMT-2e\" x=\"55.615234\"/>\n",
       "       <use xlink:href=\"#ArialMT-35\" x=\"83.398438\"/>\n",
       "      </g>\n",
       "     </g>\n",
       "    </g>\n",
       "    <g id=\"xtick_8\">\n",
       "     <g id=\"line2d_8\">\n",
       "      <path d=\"M 285.022235 321.7 \n",
       "L 285.022235 7.2 \n",
       "\" clip-path=\"url(#p602398cabe)\" style=\"fill: none; stroke: #ffffff; stroke-linecap: round\"/>\n",
       "     </g>\n",
       "     <g id=\"text_8\">\n",
       "      <!-- 1.0 -->\n",
       "      <g style=\"fill: #262626\" transform=\"translate(277.377235 339.073594) scale(0.11 -0.11)\">\n",
       "       <use xlink:href=\"#ArialMT-31\"/>\n",
       "       <use xlink:href=\"#ArialMT-2e\" x=\"55.615234\"/>\n",
       "       <use xlink:href=\"#ArialMT-30\" x=\"83.398438\"/>\n",
       "      </g>\n",
       "     </g>\n",
       "    </g>\n",
       "    <g id=\"xtick_9\">\n",
       "     <g id=\"line2d_9\">\n",
       "      <path d=\"M 318.484016 321.7 \n",
       "L 318.484016 7.2 \n",
       "\" clip-path=\"url(#p602398cabe)\" style=\"fill: none; stroke: #ffffff; stroke-linecap: round\"/>\n",
       "     </g>\n",
       "     <g id=\"text_9\">\n",
       "      <!-- 1.5 -->\n",
       "      <g style=\"fill: #262626\" transform=\"translate(310.839016 339.073594) scale(0.11 -0.11)\">\n",
       "       <use xlink:href=\"#ArialMT-31\"/>\n",
       "       <use xlink:href=\"#ArialMT-2e\" x=\"55.615234\"/>\n",
       "       <use xlink:href=\"#ArialMT-35\" x=\"83.398438\"/>\n",
       "      </g>\n",
       "     </g>\n",
       "    </g>\n",
       "   </g>\n",
       "   <g id=\"matplotlib.axis_2\">\n",
       "    <g id=\"ytick_1\">\n",
       "     <g id=\"line2d_10\">\n",
       "      <path d=\"M 43.908438 321.7 \n",
       "L 341.448437 321.7 \n",
       "\" clip-path=\"url(#p602398cabe)\" style=\"fill: none; stroke: #ffffff; stroke-linecap: round\"/>\n",
       "     </g>\n",
       "     <g id=\"text_10\">\n",
       "      <!-- 0 -->\n",
       "      <g style=\"fill: #262626\" transform=\"translate(28.291406 325.636797) scale(0.11 -0.11)\">\n",
       "       <use xlink:href=\"#ArialMT-30\"/>\n",
       "      </g>\n",
       "     </g>\n",
       "    </g>\n",
       "    <g id=\"ytick_2\">\n",
       "     <g id=\"line2d_11\">\n",
       "      <path d=\"M 43.908438 253.626407 \n",
       "L 341.448437 253.626407 \n",
       "\" clip-path=\"url(#p602398cabe)\" style=\"fill: none; stroke: #ffffff; stroke-linecap: round\"/>\n",
       "     </g>\n",
       "     <g id=\"text_11\">\n",
       "      <!-- 5 -->\n",
       "      <g style=\"fill: #262626\" transform=\"translate(28.291406 257.563204) scale(0.11 -0.11)\">\n",
       "       <use xlink:href=\"#ArialMT-35\"/>\n",
       "      </g>\n",
       "     </g>\n",
       "    </g>\n",
       "    <g id=\"ytick_3\">\n",
       "     <g id=\"line2d_12\">\n",
       "      <path d=\"M 43.908438 185.552814 \n",
       "L 341.448437 185.552814 \n",
       "\" clip-path=\"url(#p602398cabe)\" style=\"fill: none; stroke: #ffffff; stroke-linecap: round\"/>\n",
       "     </g>\n",
       "     <g id=\"text_12\">\n",
       "      <!-- 10 -->\n",
       "      <g style=\"fill: #262626\" transform=\"translate(22.174375 189.489611) scale(0.11 -0.11)\">\n",
       "       <use xlink:href=\"#ArialMT-31\"/>\n",
       "       <use xlink:href=\"#ArialMT-30\" x=\"55.615234\"/>\n",
       "      </g>\n",
       "     </g>\n",
       "    </g>\n",
       "    <g id=\"ytick_4\">\n",
       "     <g id=\"line2d_13\">\n",
       "      <path d=\"M 43.908438 117.479221 \n",
       "L 341.448437 117.479221 \n",
       "\" clip-path=\"url(#p602398cabe)\" style=\"fill: none; stroke: #ffffff; stroke-linecap: round\"/>\n",
       "     </g>\n",
       "     <g id=\"text_13\">\n",
       "      <!-- 15 -->\n",
       "      <g style=\"fill: #262626\" transform=\"translate(22.174375 121.416018) scale(0.11 -0.11)\">\n",
       "       <use xlink:href=\"#ArialMT-31\"/>\n",
       "       <use xlink:href=\"#ArialMT-35\" x=\"55.615234\"/>\n",
       "      </g>\n",
       "     </g>\n",
       "    </g>\n",
       "    <g id=\"ytick_5\">\n",
       "     <g id=\"line2d_14\">\n",
       "      <path d=\"M 43.908438 49.405628 \n",
       "L 341.448437 49.405628 \n",
       "\" clip-path=\"url(#p602398cabe)\" style=\"fill: none; stroke: #ffffff; stroke-linecap: round\"/>\n",
       "     </g>\n",
       "     <g id=\"text_14\">\n",
       "      <!-- 20 -->\n",
       "      <g style=\"fill: #262626\" transform=\"translate(22.174375 53.342425) scale(0.11 -0.11)\">\n",
       "       <use xlink:href=\"#ArialMT-32\"/>\n",
       "       <use xlink:href=\"#ArialMT-30\" x=\"55.615234\"/>\n",
       "      </g>\n",
       "     </g>\n",
       "    </g>\n",
       "    <g id=\"text_15\">\n",
       "     <!-- Count -->\n",
       "     <g style=\"fill: #262626\" transform=\"translate(15.789375 180.459688) rotate(-90) scale(0.12 -0.12)\">\n",
       "      <defs>\n",
       "       <path id=\"ArialMT-43\" d=\"M 3763 1606 \n",
       "L 4369 1453 \n",
       "Q 4178 706 3683 314 \n",
       "Q 3188 -78 2472 -78 \n",
       "Q 1731 -78 1267 223 \n",
       "Q 803 525 561 1097 \n",
       "Q 319 1669 319 2325 \n",
       "Q 319 3041 592 3573 \n",
       "Q 866 4106 1370 4382 \n",
       "Q 1875 4659 2481 4659 \n",
       "Q 3169 4659 3637 4309 \n",
       "Q 4106 3959 4291 3325 \n",
       "L 3694 3184 \n",
       "Q 3534 3684 3231 3912 \n",
       "Q 2928 4141 2469 4141 \n",
       "Q 1941 4141 1586 3887 \n",
       "Q 1231 3634 1087 3207 \n",
       "Q 944 2781 944 2328 \n",
       "Q 944 1744 1114 1308 \n",
       "Q 1284 872 1643 656 \n",
       "Q 2003 441 2422 441 \n",
       "Q 2931 441 3284 734 \n",
       "Q 3638 1028 3763 1606 \n",
       "z\n",
       "\" transform=\"scale(0.015625)\"/>\n",
       "       <path id=\"ArialMT-6f\" d=\"M 213 1659 \n",
       "Q 213 2581 725 3025 \n",
       "Q 1153 3394 1769 3394 \n",
       "Q 2453 3394 2887 2945 \n",
       "Q 3322 2497 3322 1706 \n",
       "Q 3322 1066 3130 698 \n",
       "Q 2938 331 2570 128 \n",
       "Q 2203 -75 1769 -75 \n",
       "Q 1072 -75 642 372 \n",
       "Q 213 819 213 1659 \n",
       "z\n",
       "M 791 1659 \n",
       "Q 791 1022 1069 705 \n",
       "Q 1347 388 1769 388 \n",
       "Q 2188 388 2466 706 \n",
       "Q 2744 1025 2744 1678 \n",
       "Q 2744 2294 2464 2611 \n",
       "Q 2184 2928 1769 2928 \n",
       "Q 1347 2928 1069 2612 \n",
       "Q 791 2297 791 1659 \n",
       "z\n",
       "\" transform=\"scale(0.015625)\"/>\n",
       "       <path id=\"ArialMT-75\" d=\"M 2597 0 \n",
       "L 2597 488 \n",
       "Q 2209 -75 1544 -75 \n",
       "Q 1250 -75 995 37 \n",
       "Q 741 150 617 320 \n",
       "Q 494 491 444 738 \n",
       "Q 409 903 409 1263 \n",
       "L 409 3319 \n",
       "L 972 3319 \n",
       "L 972 1478 \n",
       "Q 972 1038 1006 884 \n",
       "Q 1059 663 1231 536 \n",
       "Q 1403 409 1656 409 \n",
       "Q 1909 409 2131 539 \n",
       "Q 2353 669 2445 892 \n",
       "Q 2538 1116 2538 1541 \n",
       "L 2538 3319 \n",
       "L 3100 3319 \n",
       "L 3100 0 \n",
       "L 2597 0 \n",
       "z\n",
       "\" transform=\"scale(0.015625)\"/>\n",
       "       <path id=\"ArialMT-6e\" d=\"M 422 0 \n",
       "L 422 3319 \n",
       "L 928 3319 \n",
       "L 928 2847 \n",
       "Q 1294 3394 1984 3394 \n",
       "Q 2284 3394 2536 3286 \n",
       "Q 2788 3178 2913 3003 \n",
       "Q 3038 2828 3088 2588 \n",
       "Q 3119 2431 3119 2041 \n",
       "L 3119 0 \n",
       "L 2556 0 \n",
       "L 2556 2019 \n",
       "Q 2556 2363 2490 2533 \n",
       "Q 2425 2703 2258 2804 \n",
       "Q 2091 2906 1866 2906 \n",
       "Q 1506 2906 1245 2678 \n",
       "Q 984 2450 984 1813 \n",
       "L 984 0 \n",
       "L 422 0 \n",
       "z\n",
       "\" transform=\"scale(0.015625)\"/>\n",
       "       <path id=\"ArialMT-74\" d=\"M 1650 503 \n",
       "L 1731 6 \n",
       "Q 1494 -44 1306 -44 \n",
       "Q 1000 -44 831 53 \n",
       "Q 663 150 594 308 \n",
       "Q 525 466 525 972 \n",
       "L 525 2881 \n",
       "L 113 2881 \n",
       "L 113 3319 \n",
       "L 525 3319 \n",
       "L 525 4141 \n",
       "L 1084 4478 \n",
       "L 1084 3319 \n",
       "L 1650 3319 \n",
       "L 1650 2881 \n",
       "L 1084 2881 \n",
       "L 1084 941 \n",
       "Q 1084 700 1114 631 \n",
       "Q 1144 563 1211 522 \n",
       "Q 1278 481 1403 481 \n",
       "Q 1497 481 1650 503 \n",
       "z\n",
       "\" transform=\"scale(0.015625)\"/>\n",
       "      </defs>\n",
       "      <use xlink:href=\"#ArialMT-43\"/>\n",
       "      <use xlink:href=\"#ArialMT-6f\" x=\"72.216797\"/>\n",
       "      <use xlink:href=\"#ArialMT-75\" x=\"127.832031\"/>\n",
       "      <use xlink:href=\"#ArialMT-6e\" x=\"183.447266\"/>\n",
       "      <use xlink:href=\"#ArialMT-74\" x=\"239.0625\"/>\n",
       "     </g>\n",
       "    </g>\n",
       "   </g>\n",
       "   <g id=\"patch_3\">\n",
       "    <path d=\"M 57.432983 321.7 \n",
       "L 91.244347 321.7 \n",
       "L 91.244347 280.855844 \n",
       "L 57.432983 280.855844 \n",
       "z\n",
       "\" clip-path=\"url(#p602398cabe)\" style=\"fill: #ff0000; fill-opacity: 0.75; stroke: #ffffff; stroke-linejoin: miter\"/>\n",
       "   </g>\n",
       "   <g id=\"patch_4\">\n",
       "    <path d=\"M 91.244347 321.7 \n",
       "L 125.05571 321.7 \n",
       "L 125.05571 185.552814 \n",
       "L 91.244347 185.552814 \n",
       "z\n",
       "\" clip-path=\"url(#p602398cabe)\" style=\"fill: #ff0000; fill-opacity: 0.75; stroke: #ffffff; stroke-linejoin: miter\"/>\n",
       "   </g>\n",
       "   <g id=\"patch_5\">\n",
       "    <path d=\"M 125.05571 321.7 \n",
       "L 158.867074 321.7 \n",
       "L 158.867074 267.241126 \n",
       "L 125.05571 267.241126 \n",
       "z\n",
       "\" clip-path=\"url(#p602398cabe)\" style=\"fill: #ff0000; fill-opacity: 0.75; stroke: #ffffff; stroke-linejoin: miter\"/>\n",
       "   </g>\n",
       "   <g id=\"patch_6\">\n",
       "    <path d=\"M 158.867074 321.7 \n",
       "L 192.678438 321.7 \n",
       "L 192.678438 90.249784 \n",
       "L 158.867074 90.249784 \n",
       "z\n",
       "\" clip-path=\"url(#p602398cabe)\" style=\"fill: #ff0000; fill-opacity: 0.75; stroke: #ffffff; stroke-linejoin: miter\"/>\n",
       "   </g>\n",
       "   <g id=\"patch_7\">\n",
       "    <path d=\"M 192.678438 321.7 \n",
       "L 226.489801 321.7 \n",
       "L 226.489801 22.17619 \n",
       "L 192.678438 22.17619 \n",
       "z\n",
       "\" clip-path=\"url(#p602398cabe)\" style=\"fill: #ff0000; fill-opacity: 0.75; stroke: #ffffff; stroke-linejoin: miter\"/>\n",
       "   </g>\n",
       "   <g id=\"patch_8\">\n",
       "    <path d=\"M 226.489801 321.7 \n",
       "L 260.301165 321.7 \n",
       "L 260.301165 103.864502 \n",
       "L 226.489801 103.864502 \n",
       "z\n",
       "\" clip-path=\"url(#p602398cabe)\" style=\"fill: #ff0000; fill-opacity: 0.75; stroke: #ffffff; stroke-linejoin: miter\"/>\n",
       "   </g>\n",
       "   <g id=\"patch_9\">\n",
       "    <path d=\"M 260.301165 321.7 \n",
       "L 294.112528 321.7 \n",
       "L 294.112528 49.405628 \n",
       "L 260.301165 49.405628 \n",
       "z\n",
       "\" clip-path=\"url(#p602398cabe)\" style=\"fill: #ff0000; fill-opacity: 0.75; stroke: #ffffff; stroke-linejoin: miter\"/>\n",
       "   </g>\n",
       "   <g id=\"patch_10\">\n",
       "    <path d=\"M 294.112528 321.7 \n",
       "L 327.923892 321.7 \n",
       "L 327.923892 212.782251 \n",
       "L 294.112528 212.782251 \n",
       "z\n",
       "\" clip-path=\"url(#p602398cabe)\" style=\"fill: #ff0000; fill-opacity: 0.75; stroke: #ffffff; stroke-linejoin: miter\"/>\n",
       "   </g>\n",
       "   <g id=\"patch_11\">\n",
       "    <path d=\"M 43.908438 321.7 \n",
       "L 43.908438 7.2 \n",
       "\" style=\"fill: none; stroke: #ffffff; stroke-width: 1.25; stroke-linejoin: miter; stroke-linecap: square\"/>\n",
       "   </g>\n",
       "   <g id=\"patch_12\">\n",
       "    <path d=\"M 43.908438 321.7 \n",
       "L 341.448437 321.7 \n",
       "\" style=\"fill: none; stroke: #ffffff; stroke-width: 1.25; stroke-linejoin: miter; stroke-linecap: square\"/>\n",
       "   </g>\n",
       "  </g>\n",
       " </g>\n",
       " <defs>\n",
       "  <clipPath id=\"p602398cabe\">\n",
       "   <rect x=\"43.908438\" y=\"7.2\" width=\"297.54\" height=\"314.5\"/>\n",
       "  </clipPath>\n",
       " </defs>\n",
       "</svg>\n"
      ],
      "text/plain": [
       "<Figure size 500x500 with 1 Axes>"
      ]
     },
     "metadata": {},
     "output_type": "display_data"
    }
   ],
   "source": [
    "# das hier ist eine Zelle mit Programmcode!\n",
    "\n",
    "# zuerst werden die benötgten libraries importiert\n",
    "import numpy as np\n",
    "import matplotlib.pyplot as plt\n",
    "import matplotlib_inline\n",
    "import seaborn as sns\n",
    "\n",
    "matplotlib_inline.backend_inline.set_matplotlib_formats('svg')\n",
    "\n",
    "# sns.set() verschönert das Aussehen der plots\n",
    "sns.set_theme()\n",
    "\n",
    "# 100 normalverteilte Zahlen werden generiert\n",
    "random_numbers = np.random.normal(size = 100)\n",
    "\n",
    "# plot mit z.B. displot erstellen\n",
    "plot = sns.displot(random_numbers, color=\"red\")\n",
    "\n",
    "# Du kannst diese Programmcodezelle mehrmals ausführen und so werden jedesmal unterschiedliche normalverteilte Zahlen generiert und entsprechend ändern sich die Plots."
   ]
  },
  {
   "cell_type": "code",
   "execution_count": 20,
   "metadata": {},
   "outputs": [
    {
     "data": {
      "text/plain": [
       "array([-1.51502554,  0.24886184,  0.92451719,  0.63302612, -0.02363168,\n",
       "       -1.4358475 , -0.29040845,  0.07301203,  0.46986366, -1.23982307])"
      ]
     },
     "execution_count": 20,
     "metadata": {},
     "output_type": "execute_result"
    }
   ],
   "source": [
    "# create 100 randomly distributed numbers\n",
    "x = np.random.normal(size=100)\n",
    "x[:10]"
   ]
  },
  {
   "cell_type": "code",
   "execution_count": 44,
   "metadata": {},
   "outputs": [
    {
     "data": {
      "text/plain": [
       "array([-1.51502554,  0.24886184,  0.92451719,  0.63302612, -0.02363168,\n",
       "       -1.4358475 , -0.29040845,  0.07301203,  0.46986366, -1.23982307,\n",
       "       -0.44431681,  1.4127799 ,  0.64908895, -0.05476808, -0.5281779 ,\n",
       "       -1.1608051 ,  0.84025159, -0.37102177,  0.75693789, -0.02415545,\n",
       "        0.77048525, -0.40978835,  0.82024641, -0.08427554,  1.45768455,\n",
       "       -0.49706641,  0.87755219,  2.13153254,  1.25016374, -0.11737112,\n",
       "        1.92795778,  1.28131944, -1.56512768,  0.17805024,  1.80406328,\n",
       "       -0.44129785, -0.15008354, -1.84388959, -1.89206286,  1.39065534,\n",
       "        0.27135346, -1.28126076,  0.23946809,  0.00423708, -1.11135013,\n",
       "       -0.16675051, -1.58779837, -0.30699895, -0.64031527,  1.62915798,\n",
       "        0.18893219,  1.13342489, -0.04879135,  1.69340647, -0.09376516,\n",
       "       -0.25581722,  0.55048805, -0.74181739, -0.22597744, -0.42092268,\n",
       "       -1.41202918,  0.28278648, -0.67283612, -0.97457743, -0.34462377,\n",
       "        0.25104903,  0.19286388, -0.59329931, -1.78593493, -0.31192325,\n",
       "        0.62738299,  0.81370682,  0.07485012,  1.2265692 ,  1.09856327,\n",
       "        0.42286178, -1.23461058, -1.15356384,  0.80856525, -1.05932201,\n",
       "        0.26382747,  2.33857664,  0.15026172,  0.2058181 , -0.75209834,\n",
       "        0.71782478, -0.87865738, -0.57675587,  0.65765354,  0.75450049,\n",
       "        0.50167467,  0.78202984, -0.79862102, -0.59265313, -0.18068893,\n",
       "        0.33622507,  0.17364904,  0.78815732,  0.16561635,  1.33824503])"
      ]
     },
     "execution_count": 44,
     "metadata": {},
     "output_type": "execute_result"
    }
   ],
   "source": [
    "x.T"
   ]
  },
  {
   "cell_type": "code",
   "execution_count": 40,
   "metadata": {},
   "outputs": [
    {
     "data": {
      "text/plain": [
       "87.34950534242692"
      ]
     },
     "execution_count": 40,
     "metadata": {},
     "output_type": "execute_result"
    }
   ],
   "source": [
    "x.dot(x.T)"
   ]
  },
  {
   "cell_type": "code",
   "execution_count": 21,
   "metadata": {},
   "outputs": [
    {
     "data": {
      "text/plain": [
       "100"
      ]
     },
     "execution_count": 21,
     "metadata": {},
     "output_type": "execute_result"
    }
   ],
   "source": [
    "len(x)"
   ]
  },
  {
   "cell_type": "code",
   "execution_count": 22,
   "metadata": {},
   "outputs": [
    {
     "data": {
      "text/plain": [
       "array([[-1.51502554,  0.24886184,  0.92451719,  0.63302612, -0.02363168]])"
      ]
     },
     "execution_count": 22,
     "metadata": {},
     "output_type": "execute_result"
    }
   ],
   "source": [
    "x.reshape((20, 5))[:1]"
   ]
  },
  {
   "cell_type": "code",
   "execution_count": 23,
   "metadata": {},
   "outputs": [
    {
     "data": {
      "text/plain": [
       "array([[-1.51502554,  0.24886184,  0.92451719,  0.63302612, -0.02363168,\n",
       "        -1.4358475 , -0.29040845,  0.07301203,  0.46986366, -1.23982307]])"
      ]
     },
     "execution_count": 23,
     "metadata": {},
     "output_type": "execute_result"
    }
   ],
   "source": [
    "x.reshape((10, 10))[:1]"
   ]
  },
  {
   "cell_type": "code",
   "execution_count": 24,
   "metadata": {},
   "outputs": [
    {
     "data": {
      "text/plain": [
       "array([[-1.51502554,  0.24886184]])"
      ]
     },
     "execution_count": 24,
     "metadata": {},
     "output_type": "execute_result"
    }
   ],
   "source": [
    "x.reshape((50, 2))[:1]"
   ]
  },
  {
   "cell_type": "code",
   "execution_count": 25,
   "metadata": {},
   "outputs": [
    {
     "data": {
      "text/plain": [
       "array([[-1.51502554,  0.24886184,  0.92451719,  0.63302612, -0.02363168]])"
      ]
     },
     "execution_count": 25,
     "metadata": {},
     "output_type": "execute_result"
    }
   ],
   "source": [
    "x.reshape((20, 5))[:1]"
   ]
  },
  {
   "cell_type": "markdown",
   "metadata": {},
   "source": [
    "## Erläuterung `dot product` für Matrizen"
   ]
  },
  {
   "cell_type": "code",
   "execution_count": 60,
   "metadata": {},
   "outputs": [
    {
     "data": {
      "text/plain": [
       "array([[2, 6],\n",
       "       [4, 8]])"
      ]
     },
     "execution_count": 60,
     "metadata": {},
     "output_type": "execute_result"
    }
   ],
   "source": [
    "y = np.array(([2, 6],\n",
    "              [4, 8]))\n",
    "y"
   ]
  },
  {
   "cell_type": "code",
   "execution_count": 61,
   "metadata": {},
   "outputs": [
    {
     "data": {
      "text/plain": [
       "array([[2, 4],\n",
       "       [6, 8]])"
      ]
     },
     "execution_count": 61,
     "metadata": {},
     "output_type": "execute_result"
    }
   ],
   "source": [
    "y.T"
   ]
  },
  {
   "cell_type": "code",
   "execution_count": 62,
   "metadata": {},
   "outputs": [
    {
     "data": {
      "text/plain": [
       "array([[40, 56],\n",
       "       [56, 80]])"
      ]
     },
     "execution_count": 62,
     "metadata": {},
     "output_type": "execute_result"
    }
   ],
   "source": [
    "y.dot(y.T)"
   ]
  },
  {
   "cell_type": "code",
   "execution_count": 64,
   "metadata": {},
   "outputs": [
    {
     "name": "stdout",
     "output_type": "stream",
     "text": [
      "40 56\n",
      "56 80\n"
     ]
    }
   ],
   "source": [
    "# dot product 2x2 matrix\n",
    "\n",
    "# (1. Zahl 1. Reihe y * 1. Zahl 1. Spalte y.T) + (2. Zahl 1. Reihe y * 2. Zahl 1. Spalte y.T)\n",
    "y1 = (2 * 2) + (6 * 6)\n",
    "# (1. Zahl 1. Reihe y * 1. Zahl 2. Spalte y.T) + (2. Zahl 1. Reihe y * 2. Zahl 2. Spalte y.T) \n",
    "y2 = (2 * 4) + (6 * 8)\n",
    "# (1. Zahl 2. Reihe y * 1. Zahl 1. Spalte y.T) + (2. Zahl 2. Reihe y * 2. Zahl 2. Spalte y.T)\n",
    "y3 = (4 * 2) + (8 * 6)\n",
    "# (1. Zahl 2. Reihe y * 1. Zahl 2. Spalte y.T) + (2. Zahl 2. Reihe y * 2. Zahl 2. Spalte y.T)\n",
    "y4 = (4 * 4) + (8 * 8) \n",
    "\n",
    "print(y1, y2)\n",
    "print(y3, y4)"
   ]
  },
  {
   "cell_type": "code",
   "execution_count": 68,
   "metadata": {},
   "outputs": [
    {
     "name": "stdout",
     "output_type": "stream",
     "text": [
      "80 70\n",
      "69 57\n"
     ]
    }
   ],
   "source": [
    "l = np.array([[5, 10],\n",
    "              [3, 9]])\n",
    "m = np.array([[2, 4],\n",
    "              [7, 5]])\n",
    "\n",
    "lm1 = (5 * 2) + (10 * 7)\n",
    "lm2 = (5 * 4) + (10 * 5)\n",
    "lm3 = (3 * 2) + (9 * 7)\n",
    "lm4 = (3 * 4) + (9 * 5)\n",
    "\n",
    "print(lm1, lm2)\n",
    "print(lm3, lm4)"
   ]
  },
  {
   "cell_type": "code",
   "execution_count": 66,
   "metadata": {},
   "outputs": [
    {
     "data": {
      "text/plain": [
       "array([[80, 70],\n",
       "       [69, 57]])"
      ]
     },
     "execution_count": 66,
     "metadata": {},
     "output_type": "execute_result"
    }
   ],
   "source": [
    "l.dot(m)"
   ]
  },
  {
   "cell_type": "code",
   "execution_count": 63,
   "metadata": {},
   "outputs": [
    {
     "data": {
      "text/plain": [
       "array([[ 4, 24],\n",
       "       [24, 64]])"
      ]
     },
     "execution_count": 63,
     "metadata": {},
     "output_type": "execute_result"
    }
   ],
   "source": [
    "y * y.T"
   ]
  },
  {
   "cell_type": "code",
   "execution_count": 10,
   "metadata": {},
   "outputs": [
    {
     "data": {
      "text/plain": [
       "90.64809141517446"
      ]
     },
     "execution_count": 10,
     "metadata": {},
     "output_type": "execute_result"
    }
   ],
   "source": [
    "x.dot(x.T)"
   ]
  },
  {
   "cell_type": "code",
   "execution_count": 13,
   "metadata": {},
   "outputs": [
    {
     "data": {
      "text/plain": [
       "array([[ 4.85086731e+00,  4.44628630e-01,  6.61812636e-01,\n",
       "        -1.48939392e+00,  3.15613217e+00,  5.74837424e+00,\n",
       "         2.16502521e+00,  1.03867644e+00, -6.13158482e-01,\n",
       "        -1.38468604e+00,  5.73650067e+00, -4.83367044e-01,\n",
       "        -1.16357191e+00, -1.65213974e+00,  9.29009494e-03,\n",
       "        -5.00218846e+00,  1.42437158e+00, -8.32952307e-01,\n",
       "        -1.37136021e+00,  2.28039418e-01],\n",
       "       [ 4.44628630e-01,  1.43734657e+00, -2.30998024e+00,\n",
       "        -1.63272375e+00,  1.43308359e+00,  1.13276777e+00,\n",
       "        -2.84953041e-01, -4.09097844e-01, -1.27115375e-01,\n",
       "         3.57948266e-01, -1.69974774e-01,  1.55820725e+00,\n",
       "        -9.16858032e-01,  8.20416665e-01, -4.03702798e-01,\n",
       "        -7.34378176e-01,  1.31376010e-01, -2.28316366e-01,\n",
       "        -4.23909631e-01,  1.72685360e+00],\n",
       "       [ 6.61812636e-01, -2.30998024e+00,  5.33311902e+00,\n",
       "         2.52062892e+00, -1.87375050e+00,  1.41456493e+00,\n",
       "         1.16795287e+00, -5.64480186e-02, -1.87527809e+00,\n",
       "        -8.11507109e-01,  1.06192839e+00, -2.97612152e+00,\n",
       "        -2.96175964e-01, -1.93667343e+00,  1.64857992e+00,\n",
       "         2.00933978e+00, -9.58370587e-01, -1.16420453e-02,\n",
       "        -2.12101403e-01, -2.06640689e+00],\n",
       "       [-1.48939392e+00, -1.63272375e+00,  2.52062892e+00,\n",
       "         2.54229829e+00, -1.00848303e+00, -2.89761144e+00,\n",
       "         7.05200651e-01, -8.98097519e-01,  3.14263590e-01,\n",
       "        -2.16400629e-01, -4.55954640e-01, -2.34062980e+00,\n",
       "         6.33207797e-01, -9.02722863e-02,  1.40842663e+00,\n",
       "         3.25079922e+00,  3.13683506e-01,  2.72195387e-01,\n",
       "         8.38743449e-01, -1.60282595e+00],\n",
       "       [ 3.15613217e+00,  1.43308359e+00, -1.87375050e+00,\n",
       "        -1.00848303e+00,  6.50181305e+00,  1.69185549e+00,\n",
       "         3.25940030e+00, -2.15750647e+00,  1.14273859e+00,\n",
       "        -1.18034758e+00,  5.41172033e+00, -1.02620980e+00,\n",
       "        -1.83703688e+00,  8.22991591e-01,  1.55475197e+00,\n",
       "        -1.17640552e+00,  3.63317807e+00, -9.08160783e-01,\n",
       "        -4.66907101e-01,  1.89029864e+00],\n",
       "       [ 5.74837424e+00,  1.13276777e+00,  1.41456493e+00,\n",
       "        -2.89761144e+00,  1.69185549e+00,  1.06597766e+01,\n",
       "         1.19767473e+00,  1.47439392e+00, -4.23283946e+00,\n",
       "        -2.89641829e-01,  3.89793880e+00,  1.22003871e+00,\n",
       "        -3.59275957e+00, -1.87647188e+00,  1.33506949e-01,\n",
       "        -4.79263336e+00, -8.61546637e-01, -1.21314980e+00,\n",
       "        -2.84034837e+00,  1.48516875e+00],\n",
       "       [ 2.16502521e+00, -2.84953041e-01,  1.16795287e+00,\n",
       "         7.05200651e-01,  3.25940030e+00,  1.19767473e+00,\n",
       "         2.83431354e+00, -8.60443311e-01, -1.32034543e-02,\n",
       "        -4.64488503e-01,  3.82083866e+00, -2.01209013e+00,\n",
       "        -1.35397822e+00,  2.21089110e-01,  2.05523419e+00,\n",
       "        -4.80554058e-02,  2.79866438e+00, -6.94294712e-01,\n",
       "        -2.71363938e-01, -4.47014151e-01],\n",
       "       [ 1.03867644e+00, -4.09097844e-01, -5.64480186e-02,\n",
       "        -8.98097519e-01, -2.15750647e+00,  1.47439392e+00,\n",
       "        -8.60443311e-01,  4.19080556e+00,  3.49540735e-02,\n",
       "         1.19858328e+00,  1.86665045e-01,  1.43217887e+00,\n",
       "         1.16323909e+00, -4.45333261e-01, -1.61995146e+00,\n",
       "        -5.23487224e+00,  5.99274880e-01, -8.70828440e-02,\n",
       "        -2.86115062e-01, -2.43321138e+00],\n",
       "       [-6.13158482e-01, -1.27115375e-01, -1.87527809e+00,\n",
       "         3.14263590e-01,  1.14273859e+00, -4.23283946e+00,\n",
       "        -1.32034543e-02,  3.49540735e-02,  4.08506635e+00,\n",
       "        -1.71292813e+00,  1.81139170e+00, -6.33709698e-01,\n",
       "         3.19295905e+00, -5.03580707e-01, -1.64293633e+00,\n",
       "        -1.98664711e+00,  1.13205857e+00,  6.03854989e-01,\n",
       "         1.32701078e+00, -4.76215605e-01],\n",
       "       [-1.38468604e+00,  3.57948266e-01, -8.11507109e-01,\n",
       "        -2.16400629e-01, -1.18034758e+00, -2.89641829e-01,\n",
       "        -4.64488503e-01,  1.19858328e+00, -1.71292813e+00,\n",
       "         3.38780219e+00, -3.34384664e+00,  1.59388234e+00,\n",
       "        -1.79965148e+00,  2.74239631e+00,  1.21803888e+00,\n",
       "         1.24455597e+00,  1.35534799e+00, -4.44351053e-01,\n",
       "        -1.87853767e-01, -8.53883489e-01],\n",
       "       [ 5.73650067e+00, -1.69974774e-01,  1.06192839e+00,\n",
       "        -4.55954640e-01,  5.41172033e+00,  3.89793880e+00,\n",
       "         3.82083866e+00,  1.86665045e-01,  1.81139170e+00,\n",
       "        -3.34384664e+00,  9.29255938e+00, -2.63817550e+00,\n",
       "         2.70963050e-01, -2.52642028e+00,  1.92099889e-01,\n",
       "        -5.72715343e+00,  3.06082329e+00, -7.27236192e-01,\n",
       "        -6.76816538e-01, -3.29186598e-01],\n",
       "       [-4.83367044e-01,  1.55820725e+00, -2.97612152e+00,\n",
       "        -2.34062980e+00, -1.02620980e+00,  1.22003871e+00,\n",
       "        -2.01209013e+00,  1.43217887e+00, -6.33709698e-01,\n",
       "         1.59388234e+00, -2.63817550e+00,  3.30300293e+00,\n",
       "        -4.11484495e-01,  1.06910187e+00, -1.60927446e+00,\n",
       "        -1.96053711e+00, -9.14458734e-01, -2.64331179e-02,\n",
       "        -4.96494368e-01,  1.16358228e+00],\n",
       "       [-1.16357191e+00, -9.16858032e-01, -2.96175964e-01,\n",
       "         6.33207797e-01, -1.83703688e+00, -3.59275957e+00,\n",
       "        -1.35397822e+00,  1.16323909e+00,  3.19295905e+00,\n",
       "        -1.79965148e+00,  2.70963050e-01, -4.11484495e-01,\n",
       "         4.00186370e+00, -1.77166460e+00, -2.55882638e+00,\n",
       "        -2.21048669e+00, -1.07671762e+00,  9.85481881e-01,\n",
       "         1.22512547e+00, -1.26000595e+00],\n",
       "       [-1.65213974e+00,  8.20416665e-01, -1.93667343e+00,\n",
       "        -9.02722863e-02,  8.22991591e-01, -1.87647188e+00,\n",
       "         2.21089110e-01, -4.45333261e-01, -5.03580707e-01,\n",
       "         2.74239631e+00, -2.52642028e+00,  1.06910187e+00,\n",
       "        -1.77166460e+00,  3.29614368e+00,  1.63079858e+00,\n",
       "         2.41100998e+00,  2.22618877e+00, -4.29788726e-01,\n",
       "         2.13060960e-01,  1.31019546e-01],\n",
       "       [ 9.29009494e-03, -4.03702798e-01,  1.64857992e+00,\n",
       "         1.40842663e+00,  1.55475197e+00,  1.33506949e-01,\n",
       "         2.05523419e+00, -1.61995146e+00, -1.64293633e+00,\n",
       "         1.21803888e+00,  1.92099889e-01, -1.60927446e+00,\n",
       "        -2.55882638e+00,  1.63079858e+00,  3.20304871e+00,\n",
       "         3.76059027e+00,  2.01583557e+00, -6.54529430e-01,\n",
       "        -1.85553737e-01, -3.31753361e-01],\n",
       "       [-5.00218846e+00, -7.34378176e-01,  2.00933978e+00,\n",
       "         3.25079922e+00, -1.17640552e+00, -4.79263336e+00,\n",
       "        -4.80554058e-02, -5.23487224e+00, -1.98664711e+00,\n",
       "         1.24455597e+00, -5.72715343e+00, -1.96053711e+00,\n",
       "        -2.21048669e+00,  2.41100998e+00,  3.76059027e+00,\n",
       "         1.18566008e+01, -1.43522984e+00,  3.32651065e-01,\n",
       "         9.40332808e-01,  1.34739998e+00],\n",
       "       [ 1.42437158e+00,  1.31376010e-01, -9.58370587e-01,\n",
       "         3.13683506e-01,  3.63317807e+00, -8.61546637e-01,\n",
       "         2.79866438e+00,  5.99274880e-01,  1.13205857e+00,\n",
       "         1.35534799e+00,  3.06082329e+00, -9.14458734e-01,\n",
       "        -1.07671762e+00,  2.22618877e+00,  2.01583557e+00,\n",
       "        -1.43522984e+00,  5.25915449e+00, -8.79880941e-01,\n",
       "         1.91436277e-01, -1.53093386e+00],\n",
       "       [-8.32952307e-01, -2.28316366e-01, -1.16420453e-02,\n",
       "         2.72195387e-01, -9.08160783e-01, -1.21314980e+00,\n",
       "        -6.94294712e-01, -8.70828440e-02,  6.03854989e-01,\n",
       "        -4.44351053e-01, -7.27236192e-01, -2.64331179e-02,\n",
       "         9.85481881e-01, -4.29788726e-01, -6.54529430e-01,\n",
       "         3.32651065e-01, -8.79880941e-01,  3.64497759e-01,\n",
       "         3.64991926e-01, -3.18576150e-02],\n",
       "       [-1.37136021e+00, -4.23909631e-01, -2.12101403e-01,\n",
       "         8.38743449e-01, -4.66907101e-01, -2.84034837e+00,\n",
       "        -2.71363938e-01, -2.86115062e-01,  1.32701078e+00,\n",
       "        -1.87853767e-01, -6.76816538e-01, -4.96494368e-01,\n",
       "         1.22512547e+00,  2.13060960e-01, -1.85553737e-01,\n",
       "         9.40332808e-01,  1.91436277e-01,  3.64991926e-01,\n",
       "         7.92378281e-01, -5.33868752e-01],\n",
       "       [ 2.28039418e-01,  1.72685360e+00, -2.06640689e+00,\n",
       "        -1.60282595e+00,  1.89029864e+00,  1.48516875e+00,\n",
       "        -4.47014151e-01, -2.43321138e+00, -4.76215605e-01,\n",
       "        -8.53883489e-01, -3.29186598e-01,  1.16358228e+00,\n",
       "        -1.26000595e+00,  1.31019546e-01, -3.31753361e-01,\n",
       "         1.34739998e+00, -1.53093386e+00, -3.18576150e-02,\n",
       "        -5.33868752e-01,  3.45563323e+00]])"
      ]
     },
     "execution_count": 13,
     "metadata": {},
     "output_type": "execute_result"
    }
   ],
   "source": [
    "x = x.reshape((20, 5))\n",
    "result = x.dot(x.T)\n",
    "result"
   ]
  }
 ],
 "metadata": {
  "kernelspec": {
   "display_name": "Python 3 (ipykernel)",
   "language": "python",
   "name": "python3"
  },
  "language_info": {
   "codemirror_mode": {
    "name": "ipython",
    "version": 3
   },
   "file_extension": ".py",
   "mimetype": "text/x-python",
   "name": "python",
   "nbconvert_exporter": "python",
   "pygments_lexer": "ipython3",
   "version": "3.12.2"
  }
 },
 "nbformat": 4,
 "nbformat_minor": 4
}
