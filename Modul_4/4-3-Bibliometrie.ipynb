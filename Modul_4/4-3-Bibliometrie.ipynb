{
 "cells": [
  {
   "cell_type": "markdown",
   "metadata": {},
   "source": [
    "# 4.3. **Bibliometrie**"
   ]
  },
  {
   "cell_type": "markdown",
   "metadata": {},
   "source": [
    "## **Diskussion zum Präsenztag**"
   ]
  },
  {
   "cell_type": "markdown",
   "metadata": {},
   "source": [
    "Diskussion am Präsenztag (machen Sie sich bitte vorab stichpunktartig Notizen): \n",
    "Für wie realistisch halten Sie es, dass sich in der Forschungsbewertung in naher Zukunft (Zeithorizont 3-5 Jahre) etwas ändert? Begründen Sie Ihre Einschätzung!"
   ]
  },
  {
   "cell_type": "markdown",
   "metadata": {},
   "source": []
  },
  {
   "cell_type": "markdown",
   "metadata": {},
   "source": [
    "Bereiten Sie für die Diskussion am Präsenztag Stichpunkte zu folgenden Fragen vor:\n",
    "Welche Services im Bereich Bibliometrie bietet Ihre Einrichtung aktuell an?\n",
    "Welche Services im Bereich Bibliometrie möchte Ihre Einrichtung mittel- bis langfristig anbieten bzw. möchten Sie für Ihre Einrichtung gerne entwickeln?\n",
    "Wo würden Sie die Fähigkeiten, die für den Aufbau eines solches Services vonnöten sind, im “Compentency model for bibliometric work” verorten?"
   ]
  },
  {
   "cell_type": "markdown",
   "metadata": {},
   "source": []
  },
  {
   "cell_type": "markdown",
   "metadata": {},
   "source": [
    "### Übungen Autor*innenebene\n",
    "Löschen Sie alle bisherigen Suchanfragen in Dimensions.\n",
    "Benutzen Sie den Filter “Researcher” auf der linken Seite, klicken Sie auf “more” und suchen Sie nach den Publikationen von Konrad Förstner:\n",
    "- **Welches ist die Publikation mit dem höchsten “Field Citation Ratio”? Was sagt die Zahl aus?**\n",
    "    - *Severe COVID-19 Is Marked by a Dysregulated Myeloid Cell Compartment*, FCR: 233.02\n",
    "    - The Field Citation Ratio (FCR) indicates the relative citation performance of an article, when compared to similarly-aged articles in its subject area. The FCR is normalized to 1.0 for this selection of articles. An FCR value of more than 1.0 shows that the publication has a higher than average number of citations for its group (defined by its FoR subject code and publication year).Articles that are less than 2 years old do not have an FCR. An article with zero citations has an FCR of 0.\n",
    "- Wie lauten die Namen der beiden Ko-Autor:innen, mit denen Herr Förstner am meisten publiziert hat?\n",
    "    - Jörg Vogel, University of Würzburg, Germany\n",
    "    - Cynthia Mira Sharma, University of Würzburg, Germany\n",
    "- „Berechnen“ / Ermitteln Sie den h-Index für Hr. Förstner auf der Basis von Dimensions\n",
    "    - h-index: 35\n",
    "    - *count from the most cited publications downward until we find the first publication with fewer citations than its position in the list*\n",
    "- Auf welches Problem aufgrund des Namens kann man bei der Recherche stoßen?\n",
    "    - Dopplung, Non-Unique\n",
    "- Wie könnte man das Problem langfristig lösen?\n",
    "    - Normdaten, bzw. über Identifier: ORCID"
   ]
  },
  {
   "cell_type": "markdown",
   "metadata": {},
   "source": [
    "## **Aufgaben zur Abgabe**"
   ]
  },
  {
   "cell_type": "markdown",
   "metadata": {},
   "source": [
    "### Aufgabe (H), Folie 6: The evolution of the Science Citation Index"
   ]
  },
  {
   "cell_type": "markdown",
   "metadata": {},
   "source": [
    "**Science Citation Index** (SCI)\n",
    "\n",
    "- urspr. Datenbank mit 2 Funktionen:\n",
    "    \n",
    "    - *identify* ***what*** *each scientist has published*\n",
    "        \n",
    "    - *where and how often the papers by that scientist are* ***cited***\n",
    "        \n",
    "- Ankündigung: 1955\n",
    "    \n",
    "- Launch: 1964\n",
    "    \n",
    "- **Web of Science** (WoS) → elektronische Version des SCI\n",
    "    \n",
    "\n",
    "**SCI Journal Citation Reports** (JCR)\n",
    "\n",
    "- by-product des SCI\n",
    "    \n",
    "- erscheint jährlich seit 1975\n",
    "    \n",
    "- **Berechnung des journal impact factors**:\n",
    "    \n",
    "    - Beobachtung, dass 25 % aller Zitationen eines Jahres sich auf Literatur beziehen, die 2 bis 3 Jahre zurückliegt\n",
    "        \n",
    "    - Festlegung: Berechnungsgrundlage des JIF für das aktuelle Jahr sind die vorhergehenden 2 Jahre\n",
    "        \n",
    "- **Berechnung des JIF:**\n",
    "    \n",
    "    - *Zähler*: Anzahl der Zitationen im aktuellen Jahr auf Artikel (auch news, editorials etc.) des Journals der letzten 2 Jahre\n",
    "        \n",
    "    - *Nenner*: Anzahl substantieller Artikel (reine Forschungsartikel) der letzten 2 Jahre\n",
    "        \n",
    "- Kritik:\n",
    "    \n",
    "    - einige Disziplinen erfordern eher 5 oder 10 Jahre als Berechnungsgrundlage\n",
    "        \n",
    "    - English bias\n",
    "        \n",
    "\n",
    "**Journal Performance Indicators** (JPI)\n",
    "\n",
    "- seit 1981\n",
    "    \n",
    "- jeder substantieller Artikel (=*source item*) wird mit eigener Zitationsanzahl berechnet; nur substantielle Artikel fließen in Berechnung ein"
   ]
  },
  {
   "cell_type": "markdown",
   "metadata": {},
   "source": [
    "### Aufgabe (I), Folie 17: Indikatorik: SJR – Scimago Journal Rank und SNIP - Source Normalized Impact per Paper"
   ]
  },
  {
   "cell_type": "markdown",
   "metadata": {},
   "source": [
    "SCImago Journal Rank (SJR)\n",
    "\n",
    "- “prestige” metric\n",
    "    \n",
    "- makes a distinction between journal **popularity** (JIF) and journal **prestige** (SJR)\n",
    "    \n",
    "- Hintergrund: “The basic idea is that when a journal A is cited […] 100 times by the most highly ranked journals in the field, it receives more prestige than a journal B that also receives 100 citations, but from less prestigious periodicals with a low visibility at the international research front.“ ([Colledge et al., 2010, p. 217](zotero://select/library/items/N2R93JCU))\n",
    "    \n",
    "\n",
    "**Verbesserung von Unzulänglichkeiten**:\n",
    "\n",
    "- beschränkt journal self-citation (max. 33 %)\n",
    "    \n",
    "- gewichtet Zitationen, indem journal prestige als Faktor hinzugezogen wird\n",
    "    \n",
    "- nicht alle document types werden zur Berechnung genutzt: „Peer reviewed only: articles, Peer reviewed only: articles, All numerator conference papers and reviews“ ([Colledge et al., 2010, p. 219](zotero://select/library/items/N2R93JCU)) ([pdf](zotero://open-pdf/library/items/HU7Y4NNZ?page=5))\n",
    "    \n",
    "\n",
    "Source Normalized Impact per Paper (SNIP)\n",
    "\n",
    "- ratio of a journal’s citation impact and the degree of topicality of its subject field\n",
    "    \n",
    "- **Zähler**: raw impact per paper (RIP), which is very similar to the JIF\n",
    "    \n",
    "- **Nenner**: *citation potential* in a journal’s subject field, a measure of the citation characteristics of the field the journal sits in, determined by how often and how rapidly authors cite other works, and how well their field is covered by the database (in this case, Scopus).\n",
    "    \n",
    "- **Topicality**: „Fields with a high topicality tend to attract many authors who share an intellectual interest, and in this sense can be qualified as ‘popular’. Developments in the field go quickly. Papers are written in a limited number of highly visible periodicals, and authors tend to cite – apart from the common intellectual base – the most recent papers of their colleagues. These popular fields will tend to have higher JIFs.“ ([Colledge et al., 2010, p. 217](zotero://select/library/items/N2R93JCU)) ([pdf](zotero://open-pdf/library/items/HU7Y4NNZ?page=3))"
   ]
  },
  {
   "cell_type": "markdown",
   "metadata": {},
   "source": [
    "### Aufgabe (U), Folie 30: Aufgabe/Übung: Rufen Sie das Beispiel auf, klicken Sie auf den Altmetric Badge und beantworten Sie nachfolgende Frage: Was lässt sich an den Nutzungsspuren ablesen?"
   ]
  },
  {
   "cell_type": "markdown",
   "metadata": {},
   "source": [
    "http://www.egms.de/static/de/journals/gms/2017-15/000247.shtml "
   ]
  },
  {
   "cell_type": "markdown",
   "metadata": {},
   "source": [
    "- mit Artikel für Verknüpfte Aktionen (Referenz, Share, Like etc.) im nicht-wissenschaftlichen Bereich:\n",
    "    - Social Media: Facebook, X, Youtube\n",
    "    - Tageszeitungen\n",
    "- Mendeley-Readers mit detaillierter Statistik zu Nutzergruppen (Researches, studends, Phd-students)\n",
    "- Geographische Verteilung der Leserschaft (Wissenschaft + Öffentlichkeit)"
   ]
  },
  {
   "cell_type": "markdown",
   "metadata": {},
   "source": []
  }
 ],
 "metadata": {
  "kernelspec": {
   "display_name": "venv",
   "language": "python",
   "name": "python3"
  },
  "language_info": {
   "codemirror_mode": {
    "name": "ipython",
    "version": 3
   },
   "file_extension": ".py",
   "mimetype": "text/x-python",
   "name": "python",
   "nbconvert_exporter": "python",
   "pygments_lexer": "ipython3",
   "version": "3.11.9"
  }
 },
 "nbformat": 4,
 "nbformat_minor": 2
}
