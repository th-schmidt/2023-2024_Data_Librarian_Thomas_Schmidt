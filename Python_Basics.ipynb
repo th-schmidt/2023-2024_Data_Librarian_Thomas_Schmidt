{
 "cells": [
  {
   "cell_type": "markdown",
   "id": "bb426deb",
   "metadata": {},
   "source": [
    "# Python Basics\n",
    "\n",
    "`21.11.2023`"
   ]
  },
  {
   "cell_type": "code",
   "execution_count": 1,
   "id": "ede5020a",
   "metadata": {},
   "outputs": [
    {
     "name": "stdout",
     "output_type": "stream",
     "text": [
      "hello\n"
     ]
    }
   ],
   "source": [
    "print('hello') # hello"
   ]
  },
  {
   "cell_type": "markdown",
   "id": "ecc5724a",
   "metadata": {},
   "source": [
    "## Datentypen"
   ]
  },
  {
   "cell_type": "code",
   "execution_count": 2,
   "id": "ba6cfe63",
   "metadata": {},
   "outputs": [
    {
     "name": "stdout",
     "output_type": "stream",
     "text": [
      "Thomas\n"
     ]
    }
   ],
   "source": [
    "name = 'Thomas'\n",
    "print(name)"
   ]
  },
  {
   "cell_type": "code",
   "execution_count": 3,
   "id": "09d39143",
   "metadata": {},
   "outputs": [],
   "source": [
    "first_name = 'Thomas'\n",
    "last_name = 'Sch'"
   ]
  },
  {
   "cell_type": "code",
   "execution_count": 4,
   "id": "9dad9e1d",
   "metadata": {},
   "outputs": [
    {
     "name": "stdout",
     "output_type": "stream",
     "text": [
      "Thomas Sch\n"
     ]
    }
   ],
   "source": [
    "print(first_name, last_name)"
   ]
  },
  {
   "cell_type": "code",
   "execution_count": 5,
   "id": "e5750261",
   "metadata": {},
   "outputs": [],
   "source": [
    "age = 38"
   ]
  },
  {
   "cell_type": "code",
   "execution_count": 6,
   "id": "a30ddb41",
   "metadata": {},
   "outputs": [
    {
     "name": "stdout",
     "output_type": "stream",
     "text": [
      "Thomas Sch \n",
      "38\n"
     ]
    }
   ],
   "source": [
    "print(f\"{first_name} {last_name} \\n\"\n",
    "      f\"{age}\")"
   ]
  },
  {
   "cell_type": "code",
   "execution_count": 7,
   "id": "442f5d77",
   "metadata": {},
   "outputs": [
    {
     "name": "stdout",
     "output_type": "stream",
     "text": [
      "1.24\n"
     ]
    }
   ],
   "source": [
    "size = 1.23834\n",
    "print(round(size, ndigits=2))"
   ]
  },
  {
   "cell_type": "code",
   "execution_count": 8,
   "id": "9adbe9dd",
   "metadata": {},
   "outputs": [
    {
     "name": "stdout",
     "output_type": "stream",
     "text": [
      "1.24\n"
     ]
    }
   ],
   "source": [
    "print(f\"{size:.2f}\")"
   ]
  },
  {
   "cell_type": "code",
   "execution_count": 9,
   "id": "7853d1cd",
   "metadata": {},
   "outputs": [
    {
     "name": "stdout",
     "output_type": "stream",
     "text": [
      "True False\n"
     ]
    }
   ],
   "source": [
    "# Bool\n",
    "knows_math = True\n",
    "likes_gardening = False\n",
    "\n",
    "print(knows_math, likes_gardening)"
   ]
  },
  {
   "cell_type": "code",
   "execution_count": 10,
   "id": "2e1d06d5",
   "metadata": {},
   "outputs": [
    {
     "data": {
      "text/plain": [
       "bool"
      ]
     },
     "execution_count": 10,
     "metadata": {},
     "output_type": "execute_result"
    }
   ],
   "source": [
    "type(knows_math)"
   ]
  },
  {
   "cell_type": "code",
   "execution_count": 11,
   "id": "6b37991c",
   "metadata": {},
   "outputs": [
    {
     "name": "stdout",
     "output_type": "stream",
     "text": [
      "False\n"
     ]
    }
   ],
   "source": [
    "print(isinstance(age, str))"
   ]
  },
  {
   "cell_type": "markdown",
   "id": "fdaa793d",
   "metadata": {},
   "source": [
    "## Operatoren"
   ]
  },
  {
   "cell_type": "code",
   "execution_count": 12,
   "id": "2f3be0f2",
   "metadata": {},
   "outputs": [
    {
     "data": {
      "text/plain": [
       "17"
      ]
     },
     "execution_count": 12,
     "metadata": {},
     "output_type": "execute_result"
    }
   ],
   "source": [
    "12 + 5"
   ]
  },
  {
   "cell_type": "code",
   "execution_count": 13,
   "id": "b4197c1a",
   "metadata": {},
   "outputs": [
    {
     "data": {
      "text/plain": [
       "380"
      ]
     },
     "execution_count": 13,
     "metadata": {},
     "output_type": "execute_result"
    }
   ],
   "source": [
    "age * 10"
   ]
  },
  {
   "cell_type": "code",
   "execution_count": 14,
   "id": "49522e92",
   "metadata": {},
   "outputs": [
    {
     "data": {
      "text/plain": [
       "'Thomas Sch'"
      ]
     },
     "execution_count": 14,
     "metadata": {},
     "output_type": "execute_result"
    }
   ],
   "source": [
    "first_name + ' ' + last_name"
   ]
  },
  {
   "cell_type": "code",
   "execution_count": 15,
   "id": "2aec15dc",
   "metadata": {},
   "outputs": [
    {
     "name": "stdout",
     "output_type": "stream",
     "text": [
      "Thomas 38\n"
     ]
    }
   ],
   "source": [
    "print(first_name + ' ' + str(age))"
   ]
  },
  {
   "cell_type": "code",
   "execution_count": 16,
   "id": "d068a795",
   "metadata": {},
   "outputs": [
    {
     "name": "stdout",
     "output_type": "stream",
     "text": [
      "4.0\n"
     ]
    }
   ],
   "source": [
    "num_article = 10\n",
    "print(num_article / 2.5)"
   ]
  },
  {
   "cell_type": "markdown",
   "id": "a5b6e75c",
   "metadata": {},
   "source": [
    "## Funktionen und Methoden"
   ]
  },
  {
   "cell_type": "code",
   "execution_count": 17,
   "id": "17155392",
   "metadata": {},
   "outputs": [
    {
     "data": {
      "text/plain": [
       "6"
      ]
     },
     "execution_count": 17,
     "metadata": {},
     "output_type": "execute_result"
    }
   ],
   "source": [
    "len(first_name)"
   ]
  },
  {
   "cell_type": "code",
   "execution_count": 18,
   "id": "77ce6c6e",
   "metadata": {},
   "outputs": [
    {
     "data": {
      "text/plain": [
       "'THOMAS'"
      ]
     },
     "execution_count": 18,
     "metadata": {},
     "output_type": "execute_result"
    }
   ],
   "source": [
    "first_name.upper() # Methoden werden an Objekte gehängt"
   ]
  },
  {
   "cell_type": "code",
   "execution_count": 19,
   "id": "233d0fb5",
   "metadata": {},
   "outputs": [
    {
     "data": {
      "text/plain": [
       "True"
      ]
     },
     "execution_count": 19,
     "metadata": {},
     "output_type": "execute_result"
    }
   ],
   "source": [
    "first_name.isalnum()"
   ]
  },
  {
   "cell_type": "code",
   "execution_count": 20,
   "id": "704cf65a",
   "metadata": {},
   "outputs": [],
   "source": [
    "name = 'Lovelace'"
   ]
  },
  {
   "cell_type": "code",
   "execution_count": 21,
   "id": "db27b2a8",
   "metadata": {},
   "outputs": [
    {
     "data": {
      "text/plain": [
       "2"
      ]
     },
     "execution_count": 21,
     "metadata": {},
     "output_type": "execute_result"
    }
   ],
   "source": [
    "name.count('e')"
   ]
  },
  {
   "cell_type": "code",
   "execution_count": 22,
   "id": "475e1958",
   "metadata": {},
   "outputs": [
    {
     "data": {
      "text/plain": [
       "'lovelace'"
      ]
     },
     "execution_count": 22,
     "metadata": {},
     "output_type": "execute_result"
    }
   ],
   "source": [
    "name.lower()"
   ]
  },
  {
   "cell_type": "code",
   "execution_count": 23,
   "id": "27302055",
   "metadata": {},
   "outputs": [
    {
     "data": {
      "text/plain": [
       "2"
      ]
     },
     "execution_count": 23,
     "metadata": {},
     "output_type": "execute_result"
    }
   ],
   "source": [
    "name.lower().count('l')"
   ]
  },
  {
   "cell_type": "code",
   "execution_count": 24,
   "id": "952ea6e8",
   "metadata": {},
   "outputs": [
    {
     "data": {
      "text/plain": [
       "'Lovalaca'"
      ]
     },
     "execution_count": 24,
     "metadata": {},
     "output_type": "execute_result"
    }
   ],
   "source": [
    "name.replace('e', 'a')"
   ]
  },
  {
   "cell_type": "markdown",
   "id": "cf70576b",
   "metadata": {},
   "source": [
    "## Listen & Dicts"
   ]
  },
  {
   "cell_type": "code",
   "execution_count": 25,
   "id": "ff43d2c3",
   "metadata": {},
   "outputs": [
    {
     "name": "stdout",
     "output_type": "stream",
     "text": [
      "Hannes\n",
      "Jan\n",
      "Manuela\n",
      "Gunnar\n"
     ]
    },
    {
     "data": {
      "text/plain": [
       "[None, None, None, None]"
      ]
     },
     "execution_count": 25,
     "metadata": {},
     "output_type": "execute_result"
    }
   ],
   "source": [
    "names = ['Hannes', 'Jan', 'Manuela', 'Gunnar']\n",
    "[print(name) for name in names]"
   ]
  },
  {
   "cell_type": "code",
   "execution_count": 26,
   "id": "30aee0c2",
   "metadata": {},
   "outputs": [
    {
     "data": {
      "text/plain": [
       "['Hannes', 'Jan', 'Manuela', 'Gunnar']"
      ]
     },
     "execution_count": 26,
     "metadata": {},
     "output_type": "execute_result"
    }
   ],
   "source": [
    "names"
   ]
  },
  {
   "cell_type": "code",
   "execution_count": 27,
   "id": "db5da216",
   "metadata": {},
   "outputs": [
    {
     "data": {
      "text/plain": [
       "'Manuela'"
      ]
     },
     "execution_count": 27,
     "metadata": {},
     "output_type": "execute_result"
    }
   ],
   "source": [
    "names[2]"
   ]
  },
  {
   "cell_type": "code",
   "execution_count": 28,
   "id": "6d4776c7",
   "metadata": {},
   "outputs": [
    {
     "data": {
      "text/plain": [
       "['Jan', 'Manuela', 'Gunnar']"
      ]
     },
     "execution_count": 28,
     "metadata": {},
     "output_type": "execute_result"
    }
   ],
   "source": [
    "names[1:]"
   ]
  },
  {
   "cell_type": "code",
   "execution_count": 29,
   "id": "ec67911c",
   "metadata": {},
   "outputs": [
    {
     "data": {
      "text/plain": [
       "'Gunnar'"
      ]
     },
     "execution_count": 29,
     "metadata": {},
     "output_type": "execute_result"
    }
   ],
   "source": [
    "names[-1]"
   ]
  },
  {
   "cell_type": "code",
   "execution_count": 30,
   "id": "c135ee7a",
   "metadata": {},
   "outputs": [
    {
     "data": {
      "text/plain": [
       "['Gunnar', 'Jan']"
      ]
     },
     "execution_count": 30,
     "metadata": {},
     "output_type": "execute_result"
    }
   ],
   "source": [
    "names[::-2]"
   ]
  },
  {
   "cell_type": "code",
   "execution_count": 31,
   "id": "d01bcc0c",
   "metadata": {},
   "outputs": [
    {
     "data": {
      "text/plain": [
       "['Hannes', 'Jan', 'Manuela', 'Gunnar']"
      ]
     },
     "execution_count": 31,
     "metadata": {},
     "output_type": "execute_result"
    }
   ],
   "source": [
    "names"
   ]
  },
  {
   "cell_type": "code",
   "execution_count": 32,
   "id": "b3c8ac6d",
   "metadata": {},
   "outputs": [
    {
     "data": {
      "text/plain": [
       "['Hannes', 'Jan', 'Manuela']"
      ]
     },
     "execution_count": 32,
     "metadata": {},
     "output_type": "execute_result"
    }
   ],
   "source": [
    "names[:3]"
   ]
  },
  {
   "cell_type": "code",
   "execution_count": 33,
   "id": "adbe0213",
   "metadata": {},
   "outputs": [],
   "source": [
    "# Dicts\n",
    "\n",
    "authors = {\n",
    "    'Lovelace': 1815,\n",
    "    'Darwin': 1809,\n",
    "    'Noether': [1882, 1982],\n",
    "    'Hawking': 1942\n",
    "}"
   ]
  },
  {
   "cell_type": "code",
   "execution_count": 34,
   "id": "697a190c",
   "metadata": {},
   "outputs": [
    {
     "data": {
      "text/plain": [
       "1882"
      ]
     },
     "execution_count": 34,
     "metadata": {},
     "output_type": "execute_result"
    }
   ],
   "source": [
    "authors['Noether'][0]"
   ]
  },
  {
   "cell_type": "markdown",
   "id": "3afd60ab",
   "metadata": {},
   "source": [
    "## For Loops"
   ]
  },
  {
   "cell_type": "code",
   "execution_count": 35,
   "id": "b45f24d5",
   "metadata": {},
   "outputs": [
    {
     "name": "stdout",
     "output_type": "stream",
     "text": [
      "Hannes made a thing.\n",
      "----------\n",
      "Jan made a thing.\n",
      "----------\n",
      "Manuela made a thing.\n",
      "----------\n",
      "Gunnar made a thing.\n",
      "----------\n"
     ]
    }
   ],
   "source": [
    "for n in names:\n",
    "    print(n + ' made a thing.')\n",
    "    print('----------')"
   ]
  },
  {
   "cell_type": "markdown",
   "id": "479f96b2",
   "metadata": {},
   "source": [
    "## Conditionals"
   ]
  },
  {
   "cell_type": "code",
   "execution_count": 36,
   "id": "248cb0d6",
   "metadata": {},
   "outputs": [
    {
     "name": "stdout",
     "output_type": "stream",
     "text": [
      "kalt\n"
     ]
    }
   ],
   "source": [
    "temp = 9\n",
    "\n",
    "if temp > 15:\n",
    "    print('warm')\n",
    "elif temp < 10:\n",
    "    print('kalt')\n",
    "elif temp == 10:\n",
    "    print('angenehm')\n",
    "else:\n",
    "    print('nicht gut')"
   ]
  },
  {
   "cell_type": "code",
   "execution_count": 37,
   "id": "f2076c51",
   "metadata": {},
   "outputs": [
    {
     "name": "stdout",
     "output_type": "stream",
     "text": [
      "good\n"
     ]
    }
   ],
   "source": [
    "new_temp = 12\n",
    "\n",
    "if new_temp >= 10 and new_temp <= 15:\n",
    "    print('good')\n",
    "else:\n",
    "    print('bad')"
   ]
  },
  {
   "cell_type": "markdown",
   "id": "cd9fbcf3",
   "metadata": {},
   "source": [
    "## Zen of Python"
   ]
  },
  {
   "cell_type": "code",
   "execution_count": 38,
   "id": "00a7a157",
   "metadata": {
    "scrolled": true
   },
   "outputs": [
    {
     "name": "stdout",
     "output_type": "stream",
     "text": [
      "The Zen of Python, by Tim Peters\n",
      "\n",
      "Beautiful is better than ugly.\n",
      "Explicit is better than implicit.\n",
      "Simple is better than complex.\n",
      "Complex is better than complicated.\n",
      "Flat is better than nested.\n",
      "Sparse is better than dense.\n",
      "Readability counts.\n",
      "Special cases aren't special enough to break the rules.\n",
      "Although practicality beats purity.\n",
      "Errors should never pass silently.\n",
      "Unless explicitly silenced.\n",
      "In the face of ambiguity, refuse the temptation to guess.\n",
      "There should be one-- and preferably only one --obvious way to do it.\n",
      "Although that way may not be obvious at first unless you're Dutch.\n",
      "Now is better than never.\n",
      "Although never is often better than *right* now.\n",
      "If the implementation is hard to explain, it's a bad idea.\n",
      "If the implementation is easy to explain, it may be a good idea.\n",
      "Namespaces are one honking great idea -- let's do more of those!\n"
     ]
    }
   ],
   "source": [
    "import this"
   ]
  },
  {
   "cell_type": "markdown",
   "id": "983272a1",
   "metadata": {},
   "source": [
    "## PEP 8 Styleguide: https://peps.python.org/pep-0008/"
   ]
  },
  {
   "cell_type": "code",
   "execution_count": 39,
   "id": "49b2ad76",
   "metadata": {},
   "outputs": [
    {
     "name": "stdout",
     "output_type": "stream",
     "text": [
      "['False', 'None', 'True', 'and', 'as', 'assert', 'async', 'await', 'break', 'class', 'continue', 'def', 'del', 'elif', 'else', 'except', 'finally', 'for', 'from', 'global', 'if', 'import', 'in', 'is', 'lambda', 'nonlocal', 'not', 'or', 'pass', 'raise', 'return', 'try', 'while', 'with', 'yield']\n"
     ]
    }
   ],
   "source": [
    "import keyword\n",
    "print(keyword.kwlist)"
   ]
  },
  {
   "cell_type": "markdown",
   "id": "f623d26c",
   "metadata": {},
   "source": [
    "## assert"
   ]
  },
  {
   "cell_type": "code",
   "execution_count": 41,
   "id": "a0a5db62",
   "metadata": {},
   "outputs": [
    {
     "ename": "AssertionError",
     "evalue": "x should be positive",
     "output_type": "error",
     "traceback": [
      "\u001b[0;31m---------------------------------------------------------------------------\u001b[0m",
      "\u001b[0;31mAssertionError\u001b[0m                            Traceback (most recent call last)",
      "Cell \u001b[0;32mIn[41], line 3\u001b[0m\n\u001b[1;32m      1\u001b[0m x \u001b[38;5;241m=\u001b[39m \u001b[38;5;241m-\u001b[39m\u001b[38;5;241m1\u001b[39m\n\u001b[0;32m----> 3\u001b[0m \u001b[38;5;28;01massert\u001b[39;00m x \u001b[38;5;241m>\u001b[39m \u001b[38;5;241m0\u001b[39m, \u001b[38;5;124m\"\u001b[39m\u001b[38;5;124mx should be positive\u001b[39m\u001b[38;5;124m\"\u001b[39m\n",
      "\u001b[0;31mAssertionError\u001b[0m: x should be positive"
     ]
    }
   ],
   "source": [
    "x = -1\n",
    "\n",
    "assert x > 0, \"x should be positive\""
   ]
  }
 ],
 "metadata": {
  "kernelspec": {
   "display_name": "Python 3 (ipykernel)",
   "language": "python",
   "name": "python3"
  },
  "language_info": {
   "codemirror_mode": {
    "name": "ipython",
    "version": 3
   },
   "file_extension": ".py",
   "mimetype": "text/x-python",
   "name": "python",
   "nbconvert_exporter": "python",
   "pygments_lexer": "ipython3",
   "version": "3.11.5"
  }
 },
 "nbformat": 4,
 "nbformat_minor": 5
}
