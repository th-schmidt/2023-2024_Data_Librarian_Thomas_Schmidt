{
 "cells": [
  {
   "cell_type": "markdown",
   "metadata": {},
   "source": [
    "# DOI **Web Scraping**"
   ]
  },
  {
   "cell_type": "code",
   "execution_count": 112,
   "metadata": {},
   "outputs": [],
   "source": [
    "import requests\n",
    "import pandas as pd\n",
    "from bs4 import BeautifulSoup"
   ]
  },
  {
   "cell_type": "code",
   "execution_count": 2,
   "metadata": {},
   "outputs": [],
   "source": [
    "url = 'https://dl.acm.org/doi/proceedings/10.1145/2814864'"
   ]
  },
  {
   "cell_type": "code",
   "execution_count": 113,
   "metadata": {},
   "outputs": [],
   "source": [
    "# Parse HTML\n",
    "response = requests.get(url)\n",
    "\n",
    "if response.status_code == 200:\n",
    "    soup = BeautifulSoup(response.content, 'html.parser')\n",
    "\n",
    "# soup"
   ]
  },
  {
   "cell_type": "code",
   "execution_count": 109,
   "metadata": {},
   "outputs": [],
   "source": [
    "# Create DataFrame\n",
    "df = pd.DataFrame(columns=['doi', 'title', 'authors', 'doi_url', 'pages'])\n",
    "\n",
    "# Get article metadata\n",
    "issue_item_container = soup.find_all('div', {'class': 'issue-item-container'})\n",
    "\n",
    "for item in issue_item_container:\n",
    "    # Get article title and DOI\n",
    "    h5 = item.find('h5', {'class': 'issue-item__title'})\n",
    "    title = h5.text\n",
    "    doi = h5.a['href'].replace('/doi/', '')\n",
    "\n",
    "    # Get authors\n",
    "    temp_authors = []\n",
    "    li = item.find_all('li')\n",
    "    for l in li:\n",
    "        a_tag = l.find('a', {'href': True, 'title': True})\n",
    "        if a_tag:\n",
    "            if a_tag.text.strip().startswith('Create'):\n",
    "                continue\n",
    "            else:\n",
    "                temp_authors.append(a_tag.text)\n",
    "\n",
    "    # Get pages\n",
    "    div_detail = item.find('div', {'class': 'issue-item__detail'})\n",
    "    pages = div_detail.span.text.replace('pp ', '')\n",
    "\n",
    "    # Get DOI URL\n",
    "    doi_url = 'https://doi.org/' + doi\n",
    "\n",
    "    # Fill DataFrame\n",
    "    new_row = {'doi': doi,\n",
    "               'title': title,\n",
    "               'authors': ', '.join(temp_authors),\n",
    "               'doi_url': doi_url,\n",
    "               'pages': pages}\n",
    "    df = pd.concat([df, pd.DataFrame([new_row])], ignore_index=True)"
   ]
  },
  {
   "cell_type": "code",
   "execution_count": 115,
   "metadata": {},
   "outputs": [
    {
     "data": {
      "text/html": [
       "<div>\n",
       "<style scoped>\n",
       "    .dataframe tbody tr th:only-of-type {\n",
       "        vertical-align: middle;\n",
       "    }\n",
       "\n",
       "    .dataframe tbody tr th {\n",
       "        vertical-align: top;\n",
       "    }\n",
       "\n",
       "    .dataframe thead th {\n",
       "        text-align: right;\n",
       "    }\n",
       "</style>\n",
       "<table border=\"1\" class=\"dataframe\">\n",
       "  <thead>\n",
       "    <tr style=\"text-align: right;\">\n",
       "      <th></th>\n",
       "      <th>doi</th>\n",
       "      <th>title</th>\n",
       "      <th>authors</th>\n",
       "      <th>doi_url</th>\n",
       "      <th>pages</th>\n",
       "    </tr>\n",
       "  </thead>\n",
       "  <tbody>\n",
       "    <tr>\n",
       "      <th>0</th>\n",
       "      <td>10.1145/2814864.2814887</td>\n",
       "      <td>Crowdsourced semantic annotation of scientific...</td>\n",
       "      <td>Jaana Takis, AQM Saiful Islam, Christoph Lange...</td>\n",
       "      <td>https://doi.org/10.1145/2814864.2814887</td>\n",
       "      <td>1–8</td>\n",
       "    </tr>\n",
       "    <tr>\n",
       "      <th>1</th>\n",
       "      <td>10.1145/2814864.2814870</td>\n",
       "      <td>Complex event extraction from real-time news s...</td>\n",
       "      <td>Alexandra La Fleur, Kia Teymourian, Adrian Pas...</td>\n",
       "      <td>https://doi.org/10.1145/2814864.2814870</td>\n",
       "      <td>9–16</td>\n",
       "    </tr>\n",
       "    <tr>\n",
       "      <th>2</th>\n",
       "      <td>10.1145/2814864.2814869</td>\n",
       "      <td>An elastic and scalable spatiotemporal query p...</td>\n",
       "      <td>Hoan Nguyen Mau Quoc, Danh Le Phuoc</td>\n",
       "      <td>https://doi.org/10.1145/2814864.2814869</td>\n",
       "      <td>17–24</td>\n",
       "    </tr>\n",
       "    <tr>\n",
       "      <th>3</th>\n",
       "      <td>10.1145/2814864.2814879</td>\n",
       "      <td>Toward a statistical data integration environm...</td>\n",
       "      <td>Ba-Lam Do, Tuan-Dat Trinh, Peb Ruswono Aryan, ...</td>\n",
       "      <td>https://doi.org/10.1145/2814864.2814879</td>\n",
       "      <td>25–32</td>\n",
       "    </tr>\n",
       "    <tr>\n",
       "      <th>4</th>\n",
       "      <td>10.1145/2814864.2814867</td>\n",
       "      <td>The role of reasoning for RDF validation</td>\n",
       "      <td>Thomas Bosch, Erman Acar, Andreas Nolle, Kai E...</td>\n",
       "      <td>https://doi.org/10.1145/2814864.2814867</td>\n",
       "      <td>33–40</td>\n",
       "    </tr>\n",
       "  </tbody>\n",
       "</table>\n",
       "</div>"
      ],
      "text/plain": [
       "                       doi                                              title  \\\n",
       "0  10.1145/2814864.2814887  Crowdsourced semantic annotation of scientific...   \n",
       "1  10.1145/2814864.2814870  Complex event extraction from real-time news s...   \n",
       "2  10.1145/2814864.2814869  An elastic and scalable spatiotemporal query p...   \n",
       "3  10.1145/2814864.2814879  Toward a statistical data integration environm...   \n",
       "4  10.1145/2814864.2814867           The role of reasoning for RDF validation   \n",
       "\n",
       "                                             authors  \\\n",
       "0  Jaana Takis, AQM Saiful Islam, Christoph Lange...   \n",
       "1  Alexandra La Fleur, Kia Teymourian, Adrian Pas...   \n",
       "2                Hoan Nguyen Mau Quoc, Danh Le Phuoc   \n",
       "3  Ba-Lam Do, Tuan-Dat Trinh, Peb Ruswono Aryan, ...   \n",
       "4  Thomas Bosch, Erman Acar, Andreas Nolle, Kai E...   \n",
       "\n",
       "                                   doi_url  pages  \n",
       "0  https://doi.org/10.1145/2814864.2814887    1–8  \n",
       "1  https://doi.org/10.1145/2814864.2814870   9–16  \n",
       "2  https://doi.org/10.1145/2814864.2814869  17–24  \n",
       "3  https://doi.org/10.1145/2814864.2814879  25–32  \n",
       "4  https://doi.org/10.1145/2814864.2814867  33–40  "
      ]
     },
     "execution_count": 115,
     "metadata": {},
     "output_type": "execute_result"
    }
   ],
   "source": [
    "df.head()"
   ]
  },
  {
   "cell_type": "code",
   "execution_count": null,
   "metadata": {},
   "outputs": [],
   "source": []
  }
 ],
 "metadata": {
  "kernelspec": {
   "display_name": "venv",
   "language": "python",
   "name": "python3"
  },
  "language_info": {
   "codemirror_mode": {
    "name": "ipython",
    "version": 3
   },
   "file_extension": ".py",
   "mimetype": "text/x-python",
   "name": "python",
   "nbconvert_exporter": "python",
   "pygments_lexer": "ipython3",
   "version": "3.11.6"
  }
 },
 "nbformat": 4,
 "nbformat_minor": 2
}
